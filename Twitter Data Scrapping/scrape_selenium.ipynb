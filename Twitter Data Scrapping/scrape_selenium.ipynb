{
 "cells": [
  {
   "cell_type": "code",
   "execution_count": 3,
   "id": "86ff31b2",
   "metadata": {},
   "outputs": [],
   "source": [
    "#import library\n",
    "from selenium import webdriver\n",
    "from selenium.webdriver.support.ui import WebDriverWait\n",
    "from selenium.webdriver.common.by import By\n",
    "from selenium.webdriver.support import expected_conditions as EC\n",
    "from selenium.webdriver.common.keys import Keys\n",
    "import time\n",
    "import pandas as pd"
   ]
  },
  {
   "cell_type": "code",
   "execution_count": 4,
   "id": "244cb47d",
   "metadata": {},
   "outputs": [],
   "source": [
    "#configuration selenium driver\n",
    "driver = webdriver.Chrome()"
   ]
  },
  {
   "cell_type": "code",
   "execution_count": 5,
   "id": "eeb2b89f",
   "metadata": {},
   "outputs": [],
   "source": [
    "wait = WebDriverWait(driver,10)"
   ]
  },
  {
   "cell_type": "code",
   "execution_count": 6,
   "id": "5fa1b1af",
   "metadata": {},
   "outputs": [],
   "source": [
    "#url target\n",
    "url1 = \"https://x.com/i/flow/login\"\n",
    "driver.get(url1)"
   ]
  },
  {
   "cell_type": "code",
   "execution_count": 7,
   "id": "2839f08a",
   "metadata": {},
   "outputs": [],
   "source": [
    "# input username\n",
    "username_input = wait.until(EC.element_to_be_clickable((By.CSS_SELECTOR, \"input[name='text']\")))\n",
    "username_input.send_keys('Your Username')  \n",
    "\n",
    "next_button = wait.until(EC.element_to_be_clickable((By.XPATH, \"//span[contains(text(),'Next')]\")))\n",
    "next_button.click()"
   ]
  },
  {
   "cell_type": "code",
   "execution_count": 8,
   "id": "6ceab76f",
   "metadata": {},
   "outputs": [],
   "source": [
    "# input password\n",
    "password_input = wait.until(EC.element_to_be_clickable((By.CSS_SELECTOR, \"input[name='password']\")))\n",
    "password_input.send_keys('Your Password')\n",
    "\n",
    "login_button = wait.until(EC.element_to_be_clickable((By.XPATH, \"//span[contains(text(),'Log in')]\")))\n",
    "login_button.click()"
   ]
  },
  {
   "cell_type": "code",
   "execution_count": null,
   "id": "dfa48652",
   "metadata": {},
   "outputs": [],
   "source": [
    "# waiting until load homepage finished\n",
    "wait.until(EC.presence_of_element_located((By.CSS_SELECTOR, '[data-testid=\"SideNav_NewTweet_Button\"]')))"
   ]
  },
  {
   "cell_type": "code",
   "execution_count": 42,
   "id": "b66afb75",
   "metadata": {},
   "outputs": [],
   "source": [
    "#target scraping\n",
    "search_box = wait.until(EC.element_to_be_clickable((By.XPATH, \"//input[@data-testid='SearchBox_Search_Input']\")))\n",
    "search_box.send_keys(\"python\")\n",
    "search_box.send_keys(Keys.ENTER)"
   ]
  },
  {
   "cell_type": "code",
   "execution_count": 43,
   "id": "0bfcaaff",
   "metadata": {},
   "outputs": [],
   "source": [
    "# Scrolling\n",
    "for _ in range(8): # Scrolling 8 times\n",
    "    driver.execute_script(\"window.scrollTo(0, document.body.scrollHeight);\")\n",
    "    time.sleep(4)"
   ]
  },
  {
   "cell_type": "code",
   "execution_count": 44,
   "id": "1b9d6163",
   "metadata": {},
   "outputs": [],
   "source": [
    "# Extract data\n",
    "posts = []\n",
    "post_elements = wait.until(EC.presence_of_all_elements_located((By.CSS_SELECTOR, '[data-testid=\"cellInnerDiv\"]')))\n",
    "for post_element in post_elements:\n",
    "    try:\n",
    "        # extract username\n",
    "        username_element = post_element.find_element(By.CSS_SELECTOR, '[data-testid=\"User-Name\"] a') \n",
    "        username = username_element.text.strip()\n",
    "\n",
    "        # extract tweet\n",
    "        text_element = post_element.find_element(By.CSS_SELECTOR, '[data-testid=\"tweetText\"]')\n",
    "        text = text_element.text.strip()\n",
    "        \n",
    "        # extract likes\n",
    "        likes_element = post_element.find_element(By.CSS_SELECTOR, '[data-testid=\"like\"]')\n",
    "        likes = likes_element.text.strip()\n",
    "        \n",
    "        # extract replies\n",
    "        replies_element = post_element.find_element(By.CSS_SELECTOR, '[data-testid=\"reply\"]')\n",
    "        replies = replies_element.text.strip()\n",
    "        \n",
    "        # extract retweets\n",
    "        retweets_element = post_element.find_element(By.CSS_SELECTOR, '[data-testid=\"retweet\"]')\n",
    "        retweets = retweets_element.text.strip()\n",
    "        \n",
    "        posts.append({\"username\": username, \"text\": text, \"like\": likes, \"reply\": replies, \"retweet\": retweets})\n",
    "    except Exception as e:\n",
    "        print(f\"Error extracting data from post: {e}\")\n",
    "\n"
   ]
  },
  {
   "cell_type": "code",
   "execution_count": 45,
   "id": "1663faec",
   "metadata": {},
   "outputs": [],
   "source": [
    "# Save to dataframe\n",
    "df_selenium = pd.DataFrame(posts)\n",
    "df_selenium.to_csv(\"posts_selenium.csv\", index=False)"
   ]
  },
  {
   "cell_type": "code",
   "execution_count": 46,
   "id": "85c21742",
   "metadata": {},
   "outputs": [],
   "source": [
    "driver.quit()"
   ]
  },
  {
   "cell_type": "code",
   "execution_count": 47,
   "id": "d2be894c",
   "metadata": {},
   "outputs": [
    {
     "data": {
      "text/html": [
       "<div>\n",
       "<style scoped>\n",
       "    .dataframe tbody tr th:only-of-type {\n",
       "        vertical-align: middle;\n",
       "    }\n",
       "\n",
       "    .dataframe tbody tr th {\n",
       "        vertical-align: top;\n",
       "    }\n",
       "\n",
       "    .dataframe thead th {\n",
       "        text-align: right;\n",
       "    }\n",
       "</style>\n",
       "<table border=\"1\" class=\"dataframe\">\n",
       "  <thead>\n",
       "    <tr style=\"text-align: right;\">\n",
       "      <th></th>\n",
       "      <th>username</th>\n",
       "      <th>text</th>\n",
       "      <th>like</th>\n",
       "      <th>reply</th>\n",
       "      <th>retweet</th>\n",
       "    </tr>\n",
       "  </thead>\n",
       "  <tbody>\n",
       "    <tr>\n",
       "      <th>0</th>\n",
       "      <td>Massimo</td>\n",
       "      <td>Jay Brewer collecting eggs from a reticulated ...</td>\n",
       "      <td>375</td>\n",
       "      <td>49</td>\n",
       "      <td>40</td>\n",
       "    </tr>\n",
       "    <tr>\n",
       "      <th>1</th>\n",
       "      <td>Monty Python</td>\n",
       "      <td>Happy birthday to the late, but the ever so gr...</td>\n",
       "      <td>3.2K</td>\n",
       "      <td>146</td>\n",
       "      <td>425</td>\n",
       "    </tr>\n",
       "    <tr>\n",
       "      <th>2</th>\n",
       "      <td>Maggie Python</td>\n",
       "      <td>8 lat poniewierki. 8 lat niszczonego nam życia...</td>\n",
       "      <td>3.6K</td>\n",
       "      <td>376</td>\n",
       "      <td>754</td>\n",
       "    </tr>\n",
       "    <tr>\n",
       "      <th>3</th>\n",
       "      <td>Bsumettikul</td>\n",
       "      <td>Snake warning \\n\\nThis is Mochi.\\nShe is a fem...</td>\n",
       "      <td>16K</td>\n",
       "      <td>798</td>\n",
       "      <td>5.4K</td>\n",
       "    </tr>\n",
       "    <tr>\n",
       "      <th>4</th>\n",
       "      <td>Charlie Holtz</td>\n",
       "      <td>David Attenborough is now narrating my life\\n\\...</td>\n",
       "      <td>27K</td>\n",
       "      <td>733</td>\n",
       "      <td>6K</td>\n",
       "    </tr>\n",
       "  </tbody>\n",
       "</table>\n",
       "</div>"
      ],
      "text/plain": [
       "        username                                               text  like  \\\n",
       "0        Massimo  Jay Brewer collecting eggs from a reticulated ...   375   \n",
       "1   Monty Python  Happy birthday to the late, but the ever so gr...  3.2K   \n",
       "2  Maggie Python  8 lat poniewierki. 8 lat niszczonego nam życia...  3.6K   \n",
       "3    Bsumettikul  Snake warning \\n\\nThis is Mochi.\\nShe is a fem...   16K   \n",
       "4  Charlie Holtz  David Attenborough is now narrating my life\\n\\...   27K   \n",
       "\n",
       "   reply retweet  \n",
       "0     49      40  \n",
       "1    146     425  \n",
       "2    376     754  \n",
       "3    798    5.4K  \n",
       "4    733      6K  "
      ]
     },
     "execution_count": 47,
     "metadata": {},
     "output_type": "execute_result"
    }
   ],
   "source": [
    "#Show dataframe\n",
    "df = pd.read_csv(\"posts_selenium.csv\")\n",
    "df.head()"
   ]
  },
  {
   "cell_type": "code",
   "execution_count": 48,
   "id": "3d96a9a2",
   "metadata": {},
   "outputs": [
    {
     "data": {
      "text/plain": [
       "(7, 5)"
      ]
     },
     "execution_count": 48,
     "metadata": {},
     "output_type": "execute_result"
    }
   ],
   "source": [
    "df.shape"
   ]
  }
 ],
 "metadata": {
  "kernelspec": {
   "display_name": "Python 3 (ipykernel)",
   "language": "python",
   "name": "python3"
  },
  "language_info": {
   "codemirror_mode": {
    "name": "ipython",
    "version": 3
   },
   "file_extension": ".py",
   "mimetype": "text/x-python",
   "name": "python",
   "nbconvert_exporter": "python",
   "pygments_lexer": "ipython3",
   "version": "3.7.3"
  }
 },
 "nbformat": 4,
 "nbformat_minor": 5
}
