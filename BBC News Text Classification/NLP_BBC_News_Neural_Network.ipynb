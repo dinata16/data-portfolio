{
  "nbformat": 4,
  "nbformat_minor": 0,
  "metadata": {
    "colab": {
      "provenance": [],
      "toc_visible": true,
      "gpuType": "T4"
    },
    "kernelspec": {
      "name": "python3",
      "display_name": "Python 3"
    },
    "language_info": {
      "name": "python"
    },
    "accelerator": "GPU"
  },
  "cells": [
    {
      "cell_type": "markdown",
      "source": [
        "# NLP Classification BBC News\n",
        "\n",
        "\n",
        "by: Rizki Dinata"
      ],
      "metadata": {
        "id": "u4aK0GYBWJWT"
      }
    },
    {
      "cell_type": "markdown",
      "source": [
        "# Download Datasets from Kaggle"
      ],
      "metadata": {
        "id": "5ZQYz24cv2EW"
      }
    },
    {
      "cell_type": "code",
      "source": [
        "!pip install -q kaggle"
      ],
      "metadata": {
        "id": "ZfIlUwcLt_jF"
      },
      "execution_count": null,
      "outputs": []
    },
    {
      "cell_type": "code",
      "execution_count": null,
      "metadata": {
        "colab": {
          "base_uri": "https://localhost:8080/"
        },
        "id": "eQY5hS1Xtcq9",
        "outputId": "b434f917-89b4-473c-9cb7-5d57458a9032"
      },
      "outputs": [
        {
          "output_type": "stream",
          "name": "stdout",
          "text": [
            "Mounted at /content/drive\n"
          ]
        }
      ],
      "source": [
        "from google.colab import drive\n",
        "drive.mount('/content/drive')"
      ]
    },
    {
      "cell_type": "code",
      "source": [
        "!mkdir ~/.kaggle\n",
        "!cp /content/drive/MyDrive/kaggle/kaggle.json ~/.kaggle/kaggle.json\n",
        "!chmod 600 ~/.kaggle/kaggle.json"
      ],
      "metadata": {
        "id": "R-o_2W9Iuhoo"
      },
      "execution_count": null,
      "outputs": []
    },
    {
      "cell_type": "code",
      "source": [
        "!kaggle datasets download hgultekin/bbcnewsarchive"
      ],
      "metadata": {
        "colab": {
          "base_uri": "https://localhost:8080/"
        },
        "id": "XgBUZSfuv7rg",
        "outputId": "8ffc99a0-c3e9-4951-a6c5-9818124e080b"
      },
      "execution_count": null,
      "outputs": [
        {
          "output_type": "stream",
          "name": "stdout",
          "text": [
            "Dataset URL: https://www.kaggle.com/datasets/hgultekin/bbcnewsarchive\n",
            "License(s): copyright-authors\n",
            "Downloading bbcnewsarchive.zip to /content\n",
            "100% 1.81M/1.81M [00:01<00:00, 1.89MB/s]\n",
            "100% 1.81M/1.81M [00:01<00:00, 1.67MB/s]\n"
          ]
        }
      ]
    },
    {
      "cell_type": "code",
      "source": [
        "!mkdir bbcnewsarchive\n",
        "!unzip bbcnewsarchive.zip -d bbcnewsarchive"
      ],
      "metadata": {
        "colab": {
          "base_uri": "https://localhost:8080/"
        },
        "id": "kJe3Sw39xIdO",
        "outputId": "565ee315-9d4f-4da4-d0f2-7bac16638c27"
      },
      "execution_count": null,
      "outputs": [
        {
          "output_type": "stream",
          "name": "stdout",
          "text": [
            "Archive:  bbcnewsarchive.zip\n",
            "  inflating: bbcnewsarchive/bbc-news-data.csv  \n"
          ]
        }
      ]
    },
    {
      "cell_type": "markdown",
      "source": [
        "# Import library necessary"
      ],
      "metadata": {
        "id": "yAtGMZ2Zxsj4"
      }
    },
    {
      "cell_type": "code",
      "source": [
        "import pandas as pd\n",
        "import numpy as np\n",
        "import string\n",
        "import re\n",
        "\n",
        "import nltk\n",
        "from nltk.corpus import stopwords\n",
        "from nltk.tokenize import word_tokenize\n",
        "nltk.download('stopwords')\n",
        "nltk.download('punkt_tab')\n",
        "\n",
        "import tensorflow as tf\n",
        "from tensorflow.keras.preprocessing.text import Tokenizer\n",
        "from tensorflow.keras.preprocessing.sequence import pad_sequences"
      ],
      "metadata": {
        "id": "vGOx1XS58IKW",
        "colab": {
          "base_uri": "https://localhost:8080/"
        },
        "outputId": "0814c5c2-ac49-4bb8-a982-f70e439f5a82"
      },
      "execution_count": null,
      "outputs": [
        {
          "output_type": "stream",
          "name": "stderr",
          "text": [
            "[nltk_data] Downloading package stopwords to /root/nltk_data...\n",
            "[nltk_data]   Package stopwords is already up-to-date!\n",
            "[nltk_data] Downloading package punkt_tab to /root/nltk_data...\n",
            "[nltk_data]   Package punkt_tab is already up-to-date!\n"
          ]
        }
      ]
    },
    {
      "cell_type": "markdown",
      "source": [
        "#Load Datasets"
      ],
      "metadata": {
        "id": "wlGj1JORx4aM"
      }
    },
    {
      "cell_type": "code",
      "source": [
        "df = pd.read_csv('/content/bbcnewsarchive/bbc-news-data.csv', sep = '\\t')\n",
        "df.head()"
      ],
      "metadata": {
        "colab": {
          "base_uri": "https://localhost:8080/",
          "height": 206
        },
        "id": "DEjWsdTvx6-r",
        "outputId": "963bd986-c5ff-4afa-a790-cb395c30504c"
      },
      "execution_count": null,
      "outputs": [
        {
          "output_type": "execute_result",
          "data": {
            "text/plain": [
              "   category  ...                                            content\n",
              "0  business  ...   Quarterly profits at US media giant TimeWarne...\n",
              "1  business  ...   The dollar has hit its highest level against ...\n",
              "2  business  ...   The owners of embattled Russian oil giant Yuk...\n",
              "3  business  ...   British Airways has blamed high fuel prices f...\n",
              "4  business  ...   Shares in UK drinks and food firm Allied Dome...\n",
              "\n",
              "[5 rows x 4 columns]"
            ],
            "text/html": [
              "\n",
              "  <div id=\"df-178989fd-af88-4376-9490-1a0b3961676e\" class=\"colab-df-container\">\n",
              "    <div>\n",
              "<style scoped>\n",
              "    .dataframe tbody tr th:only-of-type {\n",
              "        vertical-align: middle;\n",
              "    }\n",
              "\n",
              "    .dataframe tbody tr th {\n",
              "        vertical-align: top;\n",
              "    }\n",
              "\n",
              "    .dataframe thead th {\n",
              "        text-align: right;\n",
              "    }\n",
              "</style>\n",
              "<table border=\"1\" class=\"dataframe\">\n",
              "  <thead>\n",
              "    <tr style=\"text-align: right;\">\n",
              "      <th></th>\n",
              "      <th>category</th>\n",
              "      <th>filename</th>\n",
              "      <th>title</th>\n",
              "      <th>content</th>\n",
              "    </tr>\n",
              "  </thead>\n",
              "  <tbody>\n",
              "    <tr>\n",
              "      <th>0</th>\n",
              "      <td>business</td>\n",
              "      <td>001.txt</td>\n",
              "      <td>Ad sales boost Time Warner profit</td>\n",
              "      <td>Quarterly profits at US media giant TimeWarne...</td>\n",
              "    </tr>\n",
              "    <tr>\n",
              "      <th>1</th>\n",
              "      <td>business</td>\n",
              "      <td>002.txt</td>\n",
              "      <td>Dollar gains on Greenspan speech</td>\n",
              "      <td>The dollar has hit its highest level against ...</td>\n",
              "    </tr>\n",
              "    <tr>\n",
              "      <th>2</th>\n",
              "      <td>business</td>\n",
              "      <td>003.txt</td>\n",
              "      <td>Yukos unit buyer faces loan claim</td>\n",
              "      <td>The owners of embattled Russian oil giant Yuk...</td>\n",
              "    </tr>\n",
              "    <tr>\n",
              "      <th>3</th>\n",
              "      <td>business</td>\n",
              "      <td>004.txt</td>\n",
              "      <td>High fuel prices hit BA's profits</td>\n",
              "      <td>British Airways has blamed high fuel prices f...</td>\n",
              "    </tr>\n",
              "    <tr>\n",
              "      <th>4</th>\n",
              "      <td>business</td>\n",
              "      <td>005.txt</td>\n",
              "      <td>Pernod takeover talk lifts Domecq</td>\n",
              "      <td>Shares in UK drinks and food firm Allied Dome...</td>\n",
              "    </tr>\n",
              "  </tbody>\n",
              "</table>\n",
              "</div>\n",
              "    <div class=\"colab-df-buttons\">\n",
              "\n",
              "  <div class=\"colab-df-container\">\n",
              "    <button class=\"colab-df-convert\" onclick=\"convertToInteractive('df-178989fd-af88-4376-9490-1a0b3961676e')\"\n",
              "            title=\"Convert this dataframe to an interactive table.\"\n",
              "            style=\"display:none;\">\n",
              "\n",
              "  <svg xmlns=\"http://www.w3.org/2000/svg\" height=\"24px\" viewBox=\"0 -960 960 960\">\n",
              "    <path d=\"M120-120v-720h720v720H120Zm60-500h600v-160H180v160Zm220 220h160v-160H400v160Zm0 220h160v-160H400v160ZM180-400h160v-160H180v160Zm440 0h160v-160H620v160ZM180-180h160v-160H180v160Zm440 0h160v-160H620v160Z\"/>\n",
              "  </svg>\n",
              "    </button>\n",
              "\n",
              "  <style>\n",
              "    .colab-df-container {\n",
              "      display:flex;\n",
              "      gap: 12px;\n",
              "    }\n",
              "\n",
              "    .colab-df-convert {\n",
              "      background-color: #E8F0FE;\n",
              "      border: none;\n",
              "      border-radius: 50%;\n",
              "      cursor: pointer;\n",
              "      display: none;\n",
              "      fill: #1967D2;\n",
              "      height: 32px;\n",
              "      padding: 0 0 0 0;\n",
              "      width: 32px;\n",
              "    }\n",
              "\n",
              "    .colab-df-convert:hover {\n",
              "      background-color: #E2EBFA;\n",
              "      box-shadow: 0px 1px 2px rgba(60, 64, 67, 0.3), 0px 1px 3px 1px rgba(60, 64, 67, 0.15);\n",
              "      fill: #174EA6;\n",
              "    }\n",
              "\n",
              "    .colab-df-buttons div {\n",
              "      margin-bottom: 4px;\n",
              "    }\n",
              "\n",
              "    [theme=dark] .colab-df-convert {\n",
              "      background-color: #3B4455;\n",
              "      fill: #D2E3FC;\n",
              "    }\n",
              "\n",
              "    [theme=dark] .colab-df-convert:hover {\n",
              "      background-color: #434B5C;\n",
              "      box-shadow: 0px 1px 3px 1px rgba(0, 0, 0, 0.15);\n",
              "      filter: drop-shadow(0px 1px 2px rgba(0, 0, 0, 0.3));\n",
              "      fill: #FFFFFF;\n",
              "    }\n",
              "  </style>\n",
              "\n",
              "    <script>\n",
              "      const buttonEl =\n",
              "        document.querySelector('#df-178989fd-af88-4376-9490-1a0b3961676e button.colab-df-convert');\n",
              "      buttonEl.style.display =\n",
              "        google.colab.kernel.accessAllowed ? 'block' : 'none';\n",
              "\n",
              "      async function convertToInteractive(key) {\n",
              "        const element = document.querySelector('#df-178989fd-af88-4376-9490-1a0b3961676e');\n",
              "        const dataTable =\n",
              "          await google.colab.kernel.invokeFunction('convertToInteractive',\n",
              "                                                    [key], {});\n",
              "        if (!dataTable) return;\n",
              "\n",
              "        const docLinkHtml = 'Like what you see? Visit the ' +\n",
              "          '<a target=\"_blank\" href=https://colab.research.google.com/notebooks/data_table.ipynb>data table notebook</a>'\n",
              "          + ' to learn more about interactive tables.';\n",
              "        element.innerHTML = '';\n",
              "        dataTable['output_type'] = 'display_data';\n",
              "        await google.colab.output.renderOutput(dataTable, element);\n",
              "        const docLink = document.createElement('div');\n",
              "        docLink.innerHTML = docLinkHtml;\n",
              "        element.appendChild(docLink);\n",
              "      }\n",
              "    </script>\n",
              "  </div>\n",
              "\n",
              "\n",
              "<div id=\"df-dabadf21-4fa0-484a-866f-ec90eee19389\">\n",
              "  <button class=\"colab-df-quickchart\" onclick=\"quickchart('df-dabadf21-4fa0-484a-866f-ec90eee19389')\"\n",
              "            title=\"Suggest charts\"\n",
              "            style=\"display:none;\">\n",
              "\n",
              "<svg xmlns=\"http://www.w3.org/2000/svg\" height=\"24px\"viewBox=\"0 0 24 24\"\n",
              "     width=\"24px\">\n",
              "    <g>\n",
              "        <path d=\"M19 3H5c-1.1 0-2 .9-2 2v14c0 1.1.9 2 2 2h14c1.1 0 2-.9 2-2V5c0-1.1-.9-2-2-2zM9 17H7v-7h2v7zm4 0h-2V7h2v10zm4 0h-2v-4h2v4z\"/>\n",
              "    </g>\n",
              "</svg>\n",
              "  </button>\n",
              "\n",
              "<style>\n",
              "  .colab-df-quickchart {\n",
              "      --bg-color: #E8F0FE;\n",
              "      --fill-color: #1967D2;\n",
              "      --hover-bg-color: #E2EBFA;\n",
              "      --hover-fill-color: #174EA6;\n",
              "      --disabled-fill-color: #AAA;\n",
              "      --disabled-bg-color: #DDD;\n",
              "  }\n",
              "\n",
              "  [theme=dark] .colab-df-quickchart {\n",
              "      --bg-color: #3B4455;\n",
              "      --fill-color: #D2E3FC;\n",
              "      --hover-bg-color: #434B5C;\n",
              "      --hover-fill-color: #FFFFFF;\n",
              "      --disabled-bg-color: #3B4455;\n",
              "      --disabled-fill-color: #666;\n",
              "  }\n",
              "\n",
              "  .colab-df-quickchart {\n",
              "    background-color: var(--bg-color);\n",
              "    border: none;\n",
              "    border-radius: 50%;\n",
              "    cursor: pointer;\n",
              "    display: none;\n",
              "    fill: var(--fill-color);\n",
              "    height: 32px;\n",
              "    padding: 0;\n",
              "    width: 32px;\n",
              "  }\n",
              "\n",
              "  .colab-df-quickchart:hover {\n",
              "    background-color: var(--hover-bg-color);\n",
              "    box-shadow: 0 1px 2px rgba(60, 64, 67, 0.3), 0 1px 3px 1px rgba(60, 64, 67, 0.15);\n",
              "    fill: var(--button-hover-fill-color);\n",
              "  }\n",
              "\n",
              "  .colab-df-quickchart-complete:disabled,\n",
              "  .colab-df-quickchart-complete:disabled:hover {\n",
              "    background-color: var(--disabled-bg-color);\n",
              "    fill: var(--disabled-fill-color);\n",
              "    box-shadow: none;\n",
              "  }\n",
              "\n",
              "  .colab-df-spinner {\n",
              "    border: 2px solid var(--fill-color);\n",
              "    border-color: transparent;\n",
              "    border-bottom-color: var(--fill-color);\n",
              "    animation:\n",
              "      spin 1s steps(1) infinite;\n",
              "  }\n",
              "\n",
              "  @keyframes spin {\n",
              "    0% {\n",
              "      border-color: transparent;\n",
              "      border-bottom-color: var(--fill-color);\n",
              "      border-left-color: var(--fill-color);\n",
              "    }\n",
              "    20% {\n",
              "      border-color: transparent;\n",
              "      border-left-color: var(--fill-color);\n",
              "      border-top-color: var(--fill-color);\n",
              "    }\n",
              "    30% {\n",
              "      border-color: transparent;\n",
              "      border-left-color: var(--fill-color);\n",
              "      border-top-color: var(--fill-color);\n",
              "      border-right-color: var(--fill-color);\n",
              "    }\n",
              "    40% {\n",
              "      border-color: transparent;\n",
              "      border-right-color: var(--fill-color);\n",
              "      border-top-color: var(--fill-color);\n",
              "    }\n",
              "    60% {\n",
              "      border-color: transparent;\n",
              "      border-right-color: var(--fill-color);\n",
              "    }\n",
              "    80% {\n",
              "      border-color: transparent;\n",
              "      border-right-color: var(--fill-color);\n",
              "      border-bottom-color: var(--fill-color);\n",
              "    }\n",
              "    90% {\n",
              "      border-color: transparent;\n",
              "      border-bottom-color: var(--fill-color);\n",
              "    }\n",
              "  }\n",
              "</style>\n",
              "\n",
              "  <script>\n",
              "    async function quickchart(key) {\n",
              "      const quickchartButtonEl =\n",
              "        document.querySelector('#' + key + ' button');\n",
              "      quickchartButtonEl.disabled = true;  // To prevent multiple clicks.\n",
              "      quickchartButtonEl.classList.add('colab-df-spinner');\n",
              "      try {\n",
              "        const charts = await google.colab.kernel.invokeFunction(\n",
              "            'suggestCharts', [key], {});\n",
              "      } catch (error) {\n",
              "        console.error('Error during call to suggestCharts:', error);\n",
              "      }\n",
              "      quickchartButtonEl.classList.remove('colab-df-spinner');\n",
              "      quickchartButtonEl.classList.add('colab-df-quickchart-complete');\n",
              "    }\n",
              "    (() => {\n",
              "      let quickchartButtonEl =\n",
              "        document.querySelector('#df-dabadf21-4fa0-484a-866f-ec90eee19389 button');\n",
              "      quickchartButtonEl.style.display =\n",
              "        google.colab.kernel.accessAllowed ? 'block' : 'none';\n",
              "    })();\n",
              "  </script>\n",
              "</div>\n",
              "\n",
              "    </div>\n",
              "  </div>\n"
            ],
            "application/vnd.google.colaboratory.intrinsic+json": {
              "type": "dataframe",
              "variable_name": "df",
              "summary": "{\n  \"name\": \"df\",\n  \"rows\": 2225,\n  \"fields\": [\n    {\n      \"column\": \"category\",\n      \"properties\": {\n        \"dtype\": \"category\",\n        \"num_unique_values\": 5,\n        \"samples\": [\n          \"entertainment\",\n          \"tech\",\n          \"politics\"\n        ],\n        \"semantic_type\": \"\",\n        \"description\": \"\"\n      }\n    },\n    {\n      \"column\": \"filename\",\n      \"properties\": {\n        \"dtype\": \"category\",\n        \"num_unique_values\": 511,\n        \"samples\": [\n          \"125.txt\",\n          \"085.txt\",\n          \"434.txt\"\n        ],\n        \"semantic_type\": \"\",\n        \"description\": \"\"\n      }\n    },\n    {\n      \"column\": \"title\",\n      \"properties\": {\n        \"dtype\": \"string\",\n        \"num_unique_values\": 2096,\n        \"samples\": [\n          \"Soaring oil 'hits world economy'\",\n          \"Bollywood DVD fraudster is jailed\",\n          \"Bening makes awards breakthrough\"\n        ],\n        \"semantic_type\": \"\",\n        \"description\": \"\"\n      }\n    },\n    {\n      \"column\": \"content\",\n      \"properties\": {\n        \"dtype\": \"string\",\n        \"num_unique_values\": 2092,\n        \"samples\": [\n          \" Kenya's athletics body has suspended two-time London Marathon runner-up Susan Chepkemei from all competition until the end of the year.  Athletics Kenya (AK) issued the ban after Chepkemei failed to turn up for a cross country training camp in Embu. \\\"We have banned her from all local and international competitions,\\\" said AK chief Isaiah Kiplagat. \\\"We shall communicate this decision to the IAAF and all meet directors all over the world.\\\" The 29-year-old finished second to Paula Radcliffe in the 2002 and 2003 London races, and was also edged out in an epic New York Marathon contest last year.  But the ban will prevent the two-time world half-marathon silver medallist from challenging Radcliffe at this year's London event in April. Global Sports Communications, Chepkemei's management company, said she had wanted to run in the World Cross Country Championships in March. But AK maintained it was making an example of Chepkemei as a warning to other Kenyan athletes. \\\"We are taking this action in order to salvage our pride,\\\" said Kiplagat. \\\"We have been accused of having no teeth to bite with and that agents are ruling over us.\\\" KA has also threatened three-time women's short-course champion Edith Masai with a similar ban if reports that she feigned injury to avoid running at the cross country world championships are true. Masai missed the national trials in early February, but was included in the provisional team on the proviso that she ran in a regional competition. She failed to run in the event, citing a leg injury. \",\n          \" The soaring cost of oil has hit global economic growth, although world's major economies should weather the storm of price rises, according to the OECD.  In its latest bi-annual report, the OECD cut its growth predictions for the world's main industrialised regions. US growth would reach 4.4% in 2004, but fall to 3.3% next year from a previous estimate of 3.7%, the OECD said. However, the Paris-based economics think tank said it believed the global economy could still regain momentum.  Forecasts for Japanese growth were also scaled back to 4.0% from 4.4% this year and 2.1% from 2.8% in 2005. But the outlook was worst for the 12-member eurozone bloc, with already sluggish growth forecasts slipping to 1.8% from 2.0% this year and 1.9% from 2.4% in 2005, the OECD said. Overall, the report forecast total growth of 3.6% in 2004 for the 30 member countries of the OECD, slipping to 2.9% next year before recovering to 3.1% in 2006. \\\"There are nonetheless good reasons to believe that despite recent oil price turbulence the world economy will regain momentum in a not-too-distant future,\\\" said Jean-Philippe Cotis, the OECD's chief economist. The price of crude is about 50% higher than it was at the start of 2004, but down on the record high of $55.67 set in late October.  A dip in oil prices and improving jobs prospects would improve consumer confidence and spending, the OECD said. \\\"The oil shock is not enormous by historical standards - we have seen worse in the seventies. If the oil price does not rise any further, then we think the shock can be absorbed within the next few quarters,\\\" Vincent Koen, a senior economist with the OECD, told the BBC's World Business Report. \\\"The recovery that was underway, and has been interrupted a bit by the oil shock this year, would then regain momentum in the course of 2005.\\\" China's booming economy and a \\\"spectacular comeback\\\" in Japan - albeit one that has faltered in recent months - would help world economic recovery, the OECD said. \\\"Supported by strong balance sheets and high profits, the recovery of business investment should continue in North America and start in earnest in Europe,\\\" it added. However, the report warned: \\\"It remains to be seen whether continental Europe will play a strong supportive role through a marked upswing of final domestic demand.\\\" The OECD highlighted current depressed household expenditure in Germany and the eurozone's over-reliance on export-led growth. \",\n          \" Consumer electronics giants Hitachi and Matshushita Electric are joining forces to share and develop technology for flat screen televisions.  The tie-up comes as the world's top producers are having to contend with falling prices and intense competition. The two Japanese companies will collaborate in research & development, production, marketing and licensing. They said the agreement would enable the two companies to expand the plasma display TV market globally.  Plasma display panels are used for large, thin TVs which are replacing old-style televisions. The display market for high-definition televisions is split between models using plasma display panels and others - manufactured by the likes of Sony and Samsung - using liquid-crystal displays (LCDs). The deal will enable Hitachi and Matsushita, which makes Panasonic brand products, to develop new technology and improve their competitiveness. Hitachi recently announced a deal to buy plasma display technology from rival Fujitsu in an effort to strengthen its presence in the market.  Separately, Fujitsu announced on Monday that it is quitting the LCD panel market by transferring its operations in the area to Japanese manufacturer Sharp. Sharp will inherit staff, manufacturing facilities and intellectual property from Fujitsu. The plasma panel market has seen rapid consolidation in recent months as the price of consumer electronic goods and components has fallen. Samsung Electronics and Sony are among other companies working together to reduce costs and speed up new product development. \"\n        ],\n        \"semantic_type\": \"\",\n        \"description\": \"\"\n      }\n    }\n  ]\n}"
            }
          },
          "metadata": {},
          "execution_count": 8
        }
      ]
    },
    {
      "cell_type": "code",
      "source": [
        "df.shape"
      ],
      "metadata": {
        "colab": {
          "base_uri": "https://localhost:8080/"
        },
        "id": "bsYdq6lNz3o0",
        "outputId": "83063d2c-2bdb-4dc9-9fc8-742e51133e16"
      },
      "execution_count": null,
      "outputs": [
        {
          "output_type": "execute_result",
          "data": {
            "text/plain": [
              "(2225, 4)"
            ]
          },
          "metadata": {},
          "execution_count": 9
        }
      ]
    },
    {
      "cell_type": "code",
      "source": [
        "df.info()"
      ],
      "metadata": {
        "colab": {
          "base_uri": "https://localhost:8080/"
        },
        "id": "LpNDtN5wz7Oh",
        "outputId": "8c6408e4-5a6f-4ebb-c1d9-9b3990247748"
      },
      "execution_count": null,
      "outputs": [
        {
          "output_type": "stream",
          "name": "stdout",
          "text": [
            "<class 'pandas.core.frame.DataFrame'>\n",
            "RangeIndex: 2225 entries, 0 to 2224\n",
            "Data columns (total 4 columns):\n",
            " #   Column    Non-Null Count  Dtype \n",
            "---  ------    --------------  ----- \n",
            " 0   category  2225 non-null   object\n",
            " 1   filename  2225 non-null   object\n",
            " 2   title     2225 non-null   object\n",
            " 3   content   2225 non-null   object\n",
            "dtypes: object(4)\n",
            "memory usage: 69.7+ KB\n"
          ]
        }
      ]
    },
    {
      "cell_type": "code",
      "source": [
        "df['category'].value_counts()"
      ],
      "metadata": {
        "colab": {
          "base_uri": "https://localhost:8080/",
          "height": 272
        },
        "id": "MOvavRJRz_Ss",
        "outputId": "aa5244ce-44ad-43e3-f26e-51f6498b7f59"
      },
      "execution_count": null,
      "outputs": [
        {
          "output_type": "execute_result",
          "data": {
            "text/plain": [
              "category\n",
              "sport            511\n",
              "business         510\n",
              "politics         417\n",
              "tech             401\n",
              "entertainment    386\n",
              "Name: count, dtype: int64"
            ],
            "text/html": [
              "<div>\n",
              "<style scoped>\n",
              "    .dataframe tbody tr th:only-of-type {\n",
              "        vertical-align: middle;\n",
              "    }\n",
              "\n",
              "    .dataframe tbody tr th {\n",
              "        vertical-align: top;\n",
              "    }\n",
              "\n",
              "    .dataframe thead th {\n",
              "        text-align: right;\n",
              "    }\n",
              "</style>\n",
              "<table border=\"1\" class=\"dataframe\">\n",
              "  <thead>\n",
              "    <tr style=\"text-align: right;\">\n",
              "      <th></th>\n",
              "      <th>count</th>\n",
              "    </tr>\n",
              "    <tr>\n",
              "      <th>category</th>\n",
              "      <th></th>\n",
              "    </tr>\n",
              "  </thead>\n",
              "  <tbody>\n",
              "    <tr>\n",
              "      <th>sport</th>\n",
              "      <td>511</td>\n",
              "    </tr>\n",
              "    <tr>\n",
              "      <th>business</th>\n",
              "      <td>510</td>\n",
              "    </tr>\n",
              "    <tr>\n",
              "      <th>politics</th>\n",
              "      <td>417</td>\n",
              "    </tr>\n",
              "    <tr>\n",
              "      <th>tech</th>\n",
              "      <td>401</td>\n",
              "    </tr>\n",
              "    <tr>\n",
              "      <th>entertainment</th>\n",
              "      <td>386</td>\n",
              "    </tr>\n",
              "  </tbody>\n",
              "</table>\n",
              "</div><br><label><b>dtype:</b> int64</label>"
            ]
          },
          "metadata": {},
          "execution_count": 11
        }
      ]
    },
    {
      "cell_type": "code",
      "source": [
        "df['text'] = df['title'].values + ' ' + df['content'].values\n",
        "df = df.drop(['filename'],axis=1)\n",
        "df.head()"
      ],
      "metadata": {
        "colab": {
          "base_uri": "https://localhost:8080/",
          "height": 206
        },
        "id": "bWVDqVov0IkC",
        "outputId": "b2021e82-50a1-4c49-d810-577ae406f92a"
      },
      "execution_count": null,
      "outputs": [
        {
          "output_type": "execute_result",
          "data": {
            "text/plain": [
              "   category  ...                                               text\n",
              "0  business  ...  Ad sales boost Time Warner profit  Quarterly p...\n",
              "1  business  ...  Dollar gains on Greenspan speech  The dollar h...\n",
              "2  business  ...  Yukos unit buyer faces loan claim  The owners ...\n",
              "3  business  ...  High fuel prices hit BA's profits  British Air...\n",
              "4  business  ...  Pernod takeover talk lifts Domecq  Shares in U...\n",
              "\n",
              "[5 rows x 4 columns]"
            ],
            "text/html": [
              "\n",
              "  <div id=\"df-de99782a-31cc-405f-96b6-6a93b1080d8f\" class=\"colab-df-container\">\n",
              "    <div>\n",
              "<style scoped>\n",
              "    .dataframe tbody tr th:only-of-type {\n",
              "        vertical-align: middle;\n",
              "    }\n",
              "\n",
              "    .dataframe tbody tr th {\n",
              "        vertical-align: top;\n",
              "    }\n",
              "\n",
              "    .dataframe thead th {\n",
              "        text-align: right;\n",
              "    }\n",
              "</style>\n",
              "<table border=\"1\" class=\"dataframe\">\n",
              "  <thead>\n",
              "    <tr style=\"text-align: right;\">\n",
              "      <th></th>\n",
              "      <th>category</th>\n",
              "      <th>title</th>\n",
              "      <th>content</th>\n",
              "      <th>text</th>\n",
              "    </tr>\n",
              "  </thead>\n",
              "  <tbody>\n",
              "    <tr>\n",
              "      <th>0</th>\n",
              "      <td>business</td>\n",
              "      <td>Ad sales boost Time Warner profit</td>\n",
              "      <td>Quarterly profits at US media giant TimeWarne...</td>\n",
              "      <td>Ad sales boost Time Warner profit  Quarterly p...</td>\n",
              "    </tr>\n",
              "    <tr>\n",
              "      <th>1</th>\n",
              "      <td>business</td>\n",
              "      <td>Dollar gains on Greenspan speech</td>\n",
              "      <td>The dollar has hit its highest level against ...</td>\n",
              "      <td>Dollar gains on Greenspan speech  The dollar h...</td>\n",
              "    </tr>\n",
              "    <tr>\n",
              "      <th>2</th>\n",
              "      <td>business</td>\n",
              "      <td>Yukos unit buyer faces loan claim</td>\n",
              "      <td>The owners of embattled Russian oil giant Yuk...</td>\n",
              "      <td>Yukos unit buyer faces loan claim  The owners ...</td>\n",
              "    </tr>\n",
              "    <tr>\n",
              "      <th>3</th>\n",
              "      <td>business</td>\n",
              "      <td>High fuel prices hit BA's profits</td>\n",
              "      <td>British Airways has blamed high fuel prices f...</td>\n",
              "      <td>High fuel prices hit BA's profits  British Air...</td>\n",
              "    </tr>\n",
              "    <tr>\n",
              "      <th>4</th>\n",
              "      <td>business</td>\n",
              "      <td>Pernod takeover talk lifts Domecq</td>\n",
              "      <td>Shares in UK drinks and food firm Allied Dome...</td>\n",
              "      <td>Pernod takeover talk lifts Domecq  Shares in U...</td>\n",
              "    </tr>\n",
              "  </tbody>\n",
              "</table>\n",
              "</div>\n",
              "    <div class=\"colab-df-buttons\">\n",
              "\n",
              "  <div class=\"colab-df-container\">\n",
              "    <button class=\"colab-df-convert\" onclick=\"convertToInteractive('df-de99782a-31cc-405f-96b6-6a93b1080d8f')\"\n",
              "            title=\"Convert this dataframe to an interactive table.\"\n",
              "            style=\"display:none;\">\n",
              "\n",
              "  <svg xmlns=\"http://www.w3.org/2000/svg\" height=\"24px\" viewBox=\"0 -960 960 960\">\n",
              "    <path d=\"M120-120v-720h720v720H120Zm60-500h600v-160H180v160Zm220 220h160v-160H400v160Zm0 220h160v-160H400v160ZM180-400h160v-160H180v160Zm440 0h160v-160H620v160ZM180-180h160v-160H180v160Zm440 0h160v-160H620v160Z\"/>\n",
              "  </svg>\n",
              "    </button>\n",
              "\n",
              "  <style>\n",
              "    .colab-df-container {\n",
              "      display:flex;\n",
              "      gap: 12px;\n",
              "    }\n",
              "\n",
              "    .colab-df-convert {\n",
              "      background-color: #E8F0FE;\n",
              "      border: none;\n",
              "      border-radius: 50%;\n",
              "      cursor: pointer;\n",
              "      display: none;\n",
              "      fill: #1967D2;\n",
              "      height: 32px;\n",
              "      padding: 0 0 0 0;\n",
              "      width: 32px;\n",
              "    }\n",
              "\n",
              "    .colab-df-convert:hover {\n",
              "      background-color: #E2EBFA;\n",
              "      box-shadow: 0px 1px 2px rgba(60, 64, 67, 0.3), 0px 1px 3px 1px rgba(60, 64, 67, 0.15);\n",
              "      fill: #174EA6;\n",
              "    }\n",
              "\n",
              "    .colab-df-buttons div {\n",
              "      margin-bottom: 4px;\n",
              "    }\n",
              "\n",
              "    [theme=dark] .colab-df-convert {\n",
              "      background-color: #3B4455;\n",
              "      fill: #D2E3FC;\n",
              "    }\n",
              "\n",
              "    [theme=dark] .colab-df-convert:hover {\n",
              "      background-color: #434B5C;\n",
              "      box-shadow: 0px 1px 3px 1px rgba(0, 0, 0, 0.15);\n",
              "      filter: drop-shadow(0px 1px 2px rgba(0, 0, 0, 0.3));\n",
              "      fill: #FFFFFF;\n",
              "    }\n",
              "  </style>\n",
              "\n",
              "    <script>\n",
              "      const buttonEl =\n",
              "        document.querySelector('#df-de99782a-31cc-405f-96b6-6a93b1080d8f button.colab-df-convert');\n",
              "      buttonEl.style.display =\n",
              "        google.colab.kernel.accessAllowed ? 'block' : 'none';\n",
              "\n",
              "      async function convertToInteractive(key) {\n",
              "        const element = document.querySelector('#df-de99782a-31cc-405f-96b6-6a93b1080d8f');\n",
              "        const dataTable =\n",
              "          await google.colab.kernel.invokeFunction('convertToInteractive',\n",
              "                                                    [key], {});\n",
              "        if (!dataTable) return;\n",
              "\n",
              "        const docLinkHtml = 'Like what you see? Visit the ' +\n",
              "          '<a target=\"_blank\" href=https://colab.research.google.com/notebooks/data_table.ipynb>data table notebook</a>'\n",
              "          + ' to learn more about interactive tables.';\n",
              "        element.innerHTML = '';\n",
              "        dataTable['output_type'] = 'display_data';\n",
              "        await google.colab.output.renderOutput(dataTable, element);\n",
              "        const docLink = document.createElement('div');\n",
              "        docLink.innerHTML = docLinkHtml;\n",
              "        element.appendChild(docLink);\n",
              "      }\n",
              "    </script>\n",
              "  </div>\n",
              "\n",
              "\n",
              "<div id=\"df-e9a1d1e1-f452-4409-b0ea-d9f5c875b42f\">\n",
              "  <button class=\"colab-df-quickchart\" onclick=\"quickchart('df-e9a1d1e1-f452-4409-b0ea-d9f5c875b42f')\"\n",
              "            title=\"Suggest charts\"\n",
              "            style=\"display:none;\">\n",
              "\n",
              "<svg xmlns=\"http://www.w3.org/2000/svg\" height=\"24px\"viewBox=\"0 0 24 24\"\n",
              "     width=\"24px\">\n",
              "    <g>\n",
              "        <path d=\"M19 3H5c-1.1 0-2 .9-2 2v14c0 1.1.9 2 2 2h14c1.1 0 2-.9 2-2V5c0-1.1-.9-2-2-2zM9 17H7v-7h2v7zm4 0h-2V7h2v10zm4 0h-2v-4h2v4z\"/>\n",
              "    </g>\n",
              "</svg>\n",
              "  </button>\n",
              "\n",
              "<style>\n",
              "  .colab-df-quickchart {\n",
              "      --bg-color: #E8F0FE;\n",
              "      --fill-color: #1967D2;\n",
              "      --hover-bg-color: #E2EBFA;\n",
              "      --hover-fill-color: #174EA6;\n",
              "      --disabled-fill-color: #AAA;\n",
              "      --disabled-bg-color: #DDD;\n",
              "  }\n",
              "\n",
              "  [theme=dark] .colab-df-quickchart {\n",
              "      --bg-color: #3B4455;\n",
              "      --fill-color: #D2E3FC;\n",
              "      --hover-bg-color: #434B5C;\n",
              "      --hover-fill-color: #FFFFFF;\n",
              "      --disabled-bg-color: #3B4455;\n",
              "      --disabled-fill-color: #666;\n",
              "  }\n",
              "\n",
              "  .colab-df-quickchart {\n",
              "    background-color: var(--bg-color);\n",
              "    border: none;\n",
              "    border-radius: 50%;\n",
              "    cursor: pointer;\n",
              "    display: none;\n",
              "    fill: var(--fill-color);\n",
              "    height: 32px;\n",
              "    padding: 0;\n",
              "    width: 32px;\n",
              "  }\n",
              "\n",
              "  .colab-df-quickchart:hover {\n",
              "    background-color: var(--hover-bg-color);\n",
              "    box-shadow: 0 1px 2px rgba(60, 64, 67, 0.3), 0 1px 3px 1px rgba(60, 64, 67, 0.15);\n",
              "    fill: var(--button-hover-fill-color);\n",
              "  }\n",
              "\n",
              "  .colab-df-quickchart-complete:disabled,\n",
              "  .colab-df-quickchart-complete:disabled:hover {\n",
              "    background-color: var(--disabled-bg-color);\n",
              "    fill: var(--disabled-fill-color);\n",
              "    box-shadow: none;\n",
              "  }\n",
              "\n",
              "  .colab-df-spinner {\n",
              "    border: 2px solid var(--fill-color);\n",
              "    border-color: transparent;\n",
              "    border-bottom-color: var(--fill-color);\n",
              "    animation:\n",
              "      spin 1s steps(1) infinite;\n",
              "  }\n",
              "\n",
              "  @keyframes spin {\n",
              "    0% {\n",
              "      border-color: transparent;\n",
              "      border-bottom-color: var(--fill-color);\n",
              "      border-left-color: var(--fill-color);\n",
              "    }\n",
              "    20% {\n",
              "      border-color: transparent;\n",
              "      border-left-color: var(--fill-color);\n",
              "      border-top-color: var(--fill-color);\n",
              "    }\n",
              "    30% {\n",
              "      border-color: transparent;\n",
              "      border-left-color: var(--fill-color);\n",
              "      border-top-color: var(--fill-color);\n",
              "      border-right-color: var(--fill-color);\n",
              "    }\n",
              "    40% {\n",
              "      border-color: transparent;\n",
              "      border-right-color: var(--fill-color);\n",
              "      border-top-color: var(--fill-color);\n",
              "    }\n",
              "    60% {\n",
              "      border-color: transparent;\n",
              "      border-right-color: var(--fill-color);\n",
              "    }\n",
              "    80% {\n",
              "      border-color: transparent;\n",
              "      border-right-color: var(--fill-color);\n",
              "      border-bottom-color: var(--fill-color);\n",
              "    }\n",
              "    90% {\n",
              "      border-color: transparent;\n",
              "      border-bottom-color: var(--fill-color);\n",
              "    }\n",
              "  }\n",
              "</style>\n",
              "\n",
              "  <script>\n",
              "    async function quickchart(key) {\n",
              "      const quickchartButtonEl =\n",
              "        document.querySelector('#' + key + ' button');\n",
              "      quickchartButtonEl.disabled = true;  // To prevent multiple clicks.\n",
              "      quickchartButtonEl.classList.add('colab-df-spinner');\n",
              "      try {\n",
              "        const charts = await google.colab.kernel.invokeFunction(\n",
              "            'suggestCharts', [key], {});\n",
              "      } catch (error) {\n",
              "        console.error('Error during call to suggestCharts:', error);\n",
              "      }\n",
              "      quickchartButtonEl.classList.remove('colab-df-spinner');\n",
              "      quickchartButtonEl.classList.add('colab-df-quickchart-complete');\n",
              "    }\n",
              "    (() => {\n",
              "      let quickchartButtonEl =\n",
              "        document.querySelector('#df-e9a1d1e1-f452-4409-b0ea-d9f5c875b42f button');\n",
              "      quickchartButtonEl.style.display =\n",
              "        google.colab.kernel.accessAllowed ? 'block' : 'none';\n",
              "    })();\n",
              "  </script>\n",
              "</div>\n",
              "\n",
              "    </div>\n",
              "  </div>\n"
            ],
            "application/vnd.google.colaboratory.intrinsic+json": {
              "type": "dataframe",
              "variable_name": "df",
              "summary": "{\n  \"name\": \"df\",\n  \"rows\": 2225,\n  \"fields\": [\n    {\n      \"column\": \"category\",\n      \"properties\": {\n        \"dtype\": \"category\",\n        \"num_unique_values\": 5,\n        \"samples\": [\n          \"entertainment\",\n          \"tech\",\n          \"politics\"\n        ],\n        \"semantic_type\": \"\",\n        \"description\": \"\"\n      }\n    },\n    {\n      \"column\": \"title\",\n      \"properties\": {\n        \"dtype\": \"string\",\n        \"num_unique_values\": 2096,\n        \"samples\": [\n          \"Soaring oil 'hits world economy'\",\n          \"Bollywood DVD fraudster is jailed\",\n          \"Bening makes awards breakthrough\"\n        ],\n        \"semantic_type\": \"\",\n        \"description\": \"\"\n      }\n    },\n    {\n      \"column\": \"content\",\n      \"properties\": {\n        \"dtype\": \"string\",\n        \"num_unique_values\": 2092,\n        \"samples\": [\n          \" Kenya's athletics body has suspended two-time London Marathon runner-up Susan Chepkemei from all competition until the end of the year.  Athletics Kenya (AK) issued the ban after Chepkemei failed to turn up for a cross country training camp in Embu. \\\"We have banned her from all local and international competitions,\\\" said AK chief Isaiah Kiplagat. \\\"We shall communicate this decision to the IAAF and all meet directors all over the world.\\\" The 29-year-old finished second to Paula Radcliffe in the 2002 and 2003 London races, and was also edged out in an epic New York Marathon contest last year.  But the ban will prevent the two-time world half-marathon silver medallist from challenging Radcliffe at this year's London event in April. Global Sports Communications, Chepkemei's management company, said she had wanted to run in the World Cross Country Championships in March. But AK maintained it was making an example of Chepkemei as a warning to other Kenyan athletes. \\\"We are taking this action in order to salvage our pride,\\\" said Kiplagat. \\\"We have been accused of having no teeth to bite with and that agents are ruling over us.\\\" KA has also threatened three-time women's short-course champion Edith Masai with a similar ban if reports that she feigned injury to avoid running at the cross country world championships are true. Masai missed the national trials in early February, but was included in the provisional team on the proviso that she ran in a regional competition. She failed to run in the event, citing a leg injury. \",\n          \" The soaring cost of oil has hit global economic growth, although world's major economies should weather the storm of price rises, according to the OECD.  In its latest bi-annual report, the OECD cut its growth predictions for the world's main industrialised regions. US growth would reach 4.4% in 2004, but fall to 3.3% next year from a previous estimate of 3.7%, the OECD said. However, the Paris-based economics think tank said it believed the global economy could still regain momentum.  Forecasts for Japanese growth were also scaled back to 4.0% from 4.4% this year and 2.1% from 2.8% in 2005. But the outlook was worst for the 12-member eurozone bloc, with already sluggish growth forecasts slipping to 1.8% from 2.0% this year and 1.9% from 2.4% in 2005, the OECD said. Overall, the report forecast total growth of 3.6% in 2004 for the 30 member countries of the OECD, slipping to 2.9% next year before recovering to 3.1% in 2006. \\\"There are nonetheless good reasons to believe that despite recent oil price turbulence the world economy will regain momentum in a not-too-distant future,\\\" said Jean-Philippe Cotis, the OECD's chief economist. The price of crude is about 50% higher than it was at the start of 2004, but down on the record high of $55.67 set in late October.  A dip in oil prices and improving jobs prospects would improve consumer confidence and spending, the OECD said. \\\"The oil shock is not enormous by historical standards - we have seen worse in the seventies. If the oil price does not rise any further, then we think the shock can be absorbed within the next few quarters,\\\" Vincent Koen, a senior economist with the OECD, told the BBC's World Business Report. \\\"The recovery that was underway, and has been interrupted a bit by the oil shock this year, would then regain momentum in the course of 2005.\\\" China's booming economy and a \\\"spectacular comeback\\\" in Japan - albeit one that has faltered in recent months - would help world economic recovery, the OECD said. \\\"Supported by strong balance sheets and high profits, the recovery of business investment should continue in North America and start in earnest in Europe,\\\" it added. However, the report warned: \\\"It remains to be seen whether continental Europe will play a strong supportive role through a marked upswing of final domestic demand.\\\" The OECD highlighted current depressed household expenditure in Germany and the eurozone's over-reliance on export-led growth. \",\n          \" Consumer electronics giants Hitachi and Matshushita Electric are joining forces to share and develop technology for flat screen televisions.  The tie-up comes as the world's top producers are having to contend with falling prices and intense competition. The two Japanese companies will collaborate in research & development, production, marketing and licensing. They said the agreement would enable the two companies to expand the plasma display TV market globally.  Plasma display panels are used for large, thin TVs which are replacing old-style televisions. The display market for high-definition televisions is split between models using plasma display panels and others - manufactured by the likes of Sony and Samsung - using liquid-crystal displays (LCDs). The deal will enable Hitachi and Matsushita, which makes Panasonic brand products, to develop new technology and improve their competitiveness. Hitachi recently announced a deal to buy plasma display technology from rival Fujitsu in an effort to strengthen its presence in the market.  Separately, Fujitsu announced on Monday that it is quitting the LCD panel market by transferring its operations in the area to Japanese manufacturer Sharp. Sharp will inherit staff, manufacturing facilities and intellectual property from Fujitsu. The plasma panel market has seen rapid consolidation in recent months as the price of consumer electronic goods and components has fallen. Samsung Electronics and Sony are among other companies working together to reduce costs and speed up new product development. \"\n        ],\n        \"semantic_type\": \"\",\n        \"description\": \"\"\n      }\n    },\n    {\n      \"column\": \"text\",\n      \"properties\": {\n        \"dtype\": \"string\",\n        \"num_unique_values\": 2127,\n        \"samples\": [\n          \"EU 'too slow' on economic reforms  Most EU countries have failed to put in place policies aimed at making Europe the world's most competitive economy by the end of the decade, a report says.  The study, undertaken by the European Commission, sought to assess how far the EU has moved towards meeting its economic targets. In 2000, EU leaders at a summit in Lisbon pledged the European economy would outstrip that of the US by 2010. Their economic targets became known as the Lisbon Agenda. But the Commission report says that, in most EU countries, the pace of economic reform has been too slow, and fulfilling the Lisbon ambitions will be difficult - if not impossible.  Only the UK, Finland, Belgium, Denmark, Ireland and the Netherlands have actually followed up policy recommendations. Among the biggest laggards, according to the report, are Greece and Italy. The Lisbon Agenda set out to increase the number of people employed in Europe by encouraging more older people and women to stay in the workforce. It also set out to raise the amount the private sector spends on research and development, while bringing about greater discipline over public spending and debt levels. Combined with high environmental standards and efforts to level the playing field for businesses throughout the EU, the plan was for Europe to become the world's most dynamic economy by 2010. Next week, the Commission will present revised proposals to meet the Lisbon goals. Many people expect the 2010 target to be quietly dropped. \",\n          \"BBC web search aids odd queries  The BBC's online search engine was used a record amount in 2004, helping with enquires both simple and strange.  More than 277 million enquiries were made, asking for informaton of a wide range of subjects. The most requested search terms of 2004 included games, EastEnders, CBBC, John Peel, Harry Potter and Olympics. But there were many strange enquiries, including: what is a dog?, how do you say basketball? and what is the biggest collection of naval fluff? The search engine works by matching key words typed in to different web pages but many people still type in natural language questions. Here are some of the strangest queries of 2004 - spelling and grammar errors left untouched - and their possible solutions:    - How to fold a serviette like an elf's boot?       - How do I structure a French letter?       - What is better one long vacation each year or several short vacations throughout the year?       - What is so special about the Swiss?       - What are the contemporary issue in nurses?       - What is the number 4 in this number 40052308090?       - What is up?       - What is the name of James Martin's dog?     Search engines are key to the way people use the internet. Companies such as Google have become of paramount importance as they dictate how people travel through websites while online. \",\n          \"Serena becomes world number two  Serena Williams has moved up five places to second in the world rankings after her Australian Open win.  Williams won her first Grand Slam title since 2003 with victory over Lindsay Davenport, the world number one. Men's champion Marat Safin remains fourth in the ATP rankings while beaten finalist Lleyton Hewitt replaces Andy Roddick as world number two. Roger Federer retains top spot, but Safin has overtaken Hewitt to become the new leader of the Champions Race. Alicia Molik, who lost a three-set thriller against Davenport in the quarter-finals, is in the women's top 10 for the first time in her career. Her rise means Australia have a player in the top 10 of the men's and women's rankings for the first time in 21 years. And Britain's Elena Baltacha, who qualified and then reached the third round, has risen to 120 in the world - a leap of 65 places and her highest ranking yet. \"\n        ],\n        \"semantic_type\": \"\",\n        \"description\": \"\"\n      }\n    }\n  ]\n}"
            }
          },
          "metadata": {},
          "execution_count": 12
        }
      ]
    },
    {
      "cell_type": "markdown",
      "source": [
        "# Data Preprocessing"
      ],
      "metadata": {
        "id": "KPH5qVhpsv6h"
      }
    },
    {
      "cell_type": "code",
      "source": [
        "def preprocess_data(text):\n",
        "    # lower case\n",
        "    text = text.lower()\n",
        "\n",
        "    # remove special character\n",
        "    text = re.sub(r'[^a-zA-Z0-9\\s]', '', text)\n",
        "\n",
        "    # remove number\n",
        "    text = re.sub(r'\\d+', '', text)\n",
        "\n",
        "    # remove double spaces\n",
        "    text = re.sub(r'\\s+', ' ', text)\n",
        "\n",
        "    # remove stopwords\n",
        "    stop_word = stopwords.words('english')\n",
        "    word_tokens = word_tokenize(text)\n",
        "    text = ' '.join([w for w in word_tokens if w not in stop_word])\n",
        "\n",
        "    # remove space before and after text\n",
        "    text = text.strip()\n",
        "    return text"
      ],
      "metadata": {
        "id": "hGXP9JwJuhkL"
      },
      "execution_count": null,
      "outputs": []
    },
    {
      "cell_type": "code",
      "source": [
        "# apply the function preprocess data\n",
        "df['text'] = df['text'].apply(preprocess_data)"
      ],
      "metadata": {
        "id": "gUbVZSJbzTKA"
      },
      "execution_count": null,
      "outputs": []
    },
    {
      "cell_type": "markdown",
      "source": [
        "## Encoding Data"
      ],
      "metadata": {
        "id": "fv51Gfy3s38P"
      }
    },
    {
      "cell_type": "code",
      "source": [
        "from sklearn.preprocessing import LabelEncoder\n",
        "le = LabelEncoder()\n",
        "\n",
        "df_clean = df.copy()\n",
        "df_clean['category'] = le.fit_transform(df_clean['category'])\n",
        "df_clean.head()"
      ],
      "metadata": {
        "colab": {
          "base_uri": "https://localhost:8080/",
          "height": 206
        },
        "id": "_P4oFwMY9Vac",
        "outputId": "3f6b5e31-abb1-4d50-e5d8-976dd82dbb37"
      },
      "execution_count": null,
      "outputs": [
        {
          "output_type": "execute_result",
          "data": {
            "text/plain": [
              "   category  ...                                               text\n",
              "0         0  ...  ad sales boost time warner profit quarterly pr...\n",
              "1         0  ...  dollar gains greenspan speech dollar hit highe...\n",
              "2         0  ...  yukos unit buyer faces loan claim owners embat...\n",
              "3         0  ...  high fuel prices hit bas profits british airwa...\n",
              "4         0  ...  pernod takeover talk lifts domecq shares uk dr...\n",
              "\n",
              "[5 rows x 4 columns]"
            ],
            "text/html": [
              "\n",
              "  <div id=\"df-0f25f935-cfdb-425e-8834-cb5168c4a444\" class=\"colab-df-container\">\n",
              "    <div>\n",
              "<style scoped>\n",
              "    .dataframe tbody tr th:only-of-type {\n",
              "        vertical-align: middle;\n",
              "    }\n",
              "\n",
              "    .dataframe tbody tr th {\n",
              "        vertical-align: top;\n",
              "    }\n",
              "\n",
              "    .dataframe thead th {\n",
              "        text-align: right;\n",
              "    }\n",
              "</style>\n",
              "<table border=\"1\" class=\"dataframe\">\n",
              "  <thead>\n",
              "    <tr style=\"text-align: right;\">\n",
              "      <th></th>\n",
              "      <th>category</th>\n",
              "      <th>title</th>\n",
              "      <th>content</th>\n",
              "      <th>text</th>\n",
              "    </tr>\n",
              "  </thead>\n",
              "  <tbody>\n",
              "    <tr>\n",
              "      <th>0</th>\n",
              "      <td>0</td>\n",
              "      <td>Ad sales boost Time Warner profit</td>\n",
              "      <td>Quarterly profits at US media giant TimeWarne...</td>\n",
              "      <td>ad sales boost time warner profit quarterly pr...</td>\n",
              "    </tr>\n",
              "    <tr>\n",
              "      <th>1</th>\n",
              "      <td>0</td>\n",
              "      <td>Dollar gains on Greenspan speech</td>\n",
              "      <td>The dollar has hit its highest level against ...</td>\n",
              "      <td>dollar gains greenspan speech dollar hit highe...</td>\n",
              "    </tr>\n",
              "    <tr>\n",
              "      <th>2</th>\n",
              "      <td>0</td>\n",
              "      <td>Yukos unit buyer faces loan claim</td>\n",
              "      <td>The owners of embattled Russian oil giant Yuk...</td>\n",
              "      <td>yukos unit buyer faces loan claim owners embat...</td>\n",
              "    </tr>\n",
              "    <tr>\n",
              "      <th>3</th>\n",
              "      <td>0</td>\n",
              "      <td>High fuel prices hit BA's profits</td>\n",
              "      <td>British Airways has blamed high fuel prices f...</td>\n",
              "      <td>high fuel prices hit bas profits british airwa...</td>\n",
              "    </tr>\n",
              "    <tr>\n",
              "      <th>4</th>\n",
              "      <td>0</td>\n",
              "      <td>Pernod takeover talk lifts Domecq</td>\n",
              "      <td>Shares in UK drinks and food firm Allied Dome...</td>\n",
              "      <td>pernod takeover talk lifts domecq shares uk dr...</td>\n",
              "    </tr>\n",
              "  </tbody>\n",
              "</table>\n",
              "</div>\n",
              "    <div class=\"colab-df-buttons\">\n",
              "\n",
              "  <div class=\"colab-df-container\">\n",
              "    <button class=\"colab-df-convert\" onclick=\"convertToInteractive('df-0f25f935-cfdb-425e-8834-cb5168c4a444')\"\n",
              "            title=\"Convert this dataframe to an interactive table.\"\n",
              "            style=\"display:none;\">\n",
              "\n",
              "  <svg xmlns=\"http://www.w3.org/2000/svg\" height=\"24px\" viewBox=\"0 -960 960 960\">\n",
              "    <path d=\"M120-120v-720h720v720H120Zm60-500h600v-160H180v160Zm220 220h160v-160H400v160Zm0 220h160v-160H400v160ZM180-400h160v-160H180v160Zm440 0h160v-160H620v160ZM180-180h160v-160H180v160Zm440 0h160v-160H620v160Z\"/>\n",
              "  </svg>\n",
              "    </button>\n",
              "\n",
              "  <style>\n",
              "    .colab-df-container {\n",
              "      display:flex;\n",
              "      gap: 12px;\n",
              "    }\n",
              "\n",
              "    .colab-df-convert {\n",
              "      background-color: #E8F0FE;\n",
              "      border: none;\n",
              "      border-radius: 50%;\n",
              "      cursor: pointer;\n",
              "      display: none;\n",
              "      fill: #1967D2;\n",
              "      height: 32px;\n",
              "      padding: 0 0 0 0;\n",
              "      width: 32px;\n",
              "    }\n",
              "\n",
              "    .colab-df-convert:hover {\n",
              "      background-color: #E2EBFA;\n",
              "      box-shadow: 0px 1px 2px rgba(60, 64, 67, 0.3), 0px 1px 3px 1px rgba(60, 64, 67, 0.15);\n",
              "      fill: #174EA6;\n",
              "    }\n",
              "\n",
              "    .colab-df-buttons div {\n",
              "      margin-bottom: 4px;\n",
              "    }\n",
              "\n",
              "    [theme=dark] .colab-df-convert {\n",
              "      background-color: #3B4455;\n",
              "      fill: #D2E3FC;\n",
              "    }\n",
              "\n",
              "    [theme=dark] .colab-df-convert:hover {\n",
              "      background-color: #434B5C;\n",
              "      box-shadow: 0px 1px 3px 1px rgba(0, 0, 0, 0.15);\n",
              "      filter: drop-shadow(0px 1px 2px rgba(0, 0, 0, 0.3));\n",
              "      fill: #FFFFFF;\n",
              "    }\n",
              "  </style>\n",
              "\n",
              "    <script>\n",
              "      const buttonEl =\n",
              "        document.querySelector('#df-0f25f935-cfdb-425e-8834-cb5168c4a444 button.colab-df-convert');\n",
              "      buttonEl.style.display =\n",
              "        google.colab.kernel.accessAllowed ? 'block' : 'none';\n",
              "\n",
              "      async function convertToInteractive(key) {\n",
              "        const element = document.querySelector('#df-0f25f935-cfdb-425e-8834-cb5168c4a444');\n",
              "        const dataTable =\n",
              "          await google.colab.kernel.invokeFunction('convertToInteractive',\n",
              "                                                    [key], {});\n",
              "        if (!dataTable) return;\n",
              "\n",
              "        const docLinkHtml = 'Like what you see? Visit the ' +\n",
              "          '<a target=\"_blank\" href=https://colab.research.google.com/notebooks/data_table.ipynb>data table notebook</a>'\n",
              "          + ' to learn more about interactive tables.';\n",
              "        element.innerHTML = '';\n",
              "        dataTable['output_type'] = 'display_data';\n",
              "        await google.colab.output.renderOutput(dataTable, element);\n",
              "        const docLink = document.createElement('div');\n",
              "        docLink.innerHTML = docLinkHtml;\n",
              "        element.appendChild(docLink);\n",
              "      }\n",
              "    </script>\n",
              "  </div>\n",
              "\n",
              "\n",
              "<div id=\"df-fc718442-77c5-48cc-bc10-c895f4af117f\">\n",
              "  <button class=\"colab-df-quickchart\" onclick=\"quickchart('df-fc718442-77c5-48cc-bc10-c895f4af117f')\"\n",
              "            title=\"Suggest charts\"\n",
              "            style=\"display:none;\">\n",
              "\n",
              "<svg xmlns=\"http://www.w3.org/2000/svg\" height=\"24px\"viewBox=\"0 0 24 24\"\n",
              "     width=\"24px\">\n",
              "    <g>\n",
              "        <path d=\"M19 3H5c-1.1 0-2 .9-2 2v14c0 1.1.9 2 2 2h14c1.1 0 2-.9 2-2V5c0-1.1-.9-2-2-2zM9 17H7v-7h2v7zm4 0h-2V7h2v10zm4 0h-2v-4h2v4z\"/>\n",
              "    </g>\n",
              "</svg>\n",
              "  </button>\n",
              "\n",
              "<style>\n",
              "  .colab-df-quickchart {\n",
              "      --bg-color: #E8F0FE;\n",
              "      --fill-color: #1967D2;\n",
              "      --hover-bg-color: #E2EBFA;\n",
              "      --hover-fill-color: #174EA6;\n",
              "      --disabled-fill-color: #AAA;\n",
              "      --disabled-bg-color: #DDD;\n",
              "  }\n",
              "\n",
              "  [theme=dark] .colab-df-quickchart {\n",
              "      --bg-color: #3B4455;\n",
              "      --fill-color: #D2E3FC;\n",
              "      --hover-bg-color: #434B5C;\n",
              "      --hover-fill-color: #FFFFFF;\n",
              "      --disabled-bg-color: #3B4455;\n",
              "      --disabled-fill-color: #666;\n",
              "  }\n",
              "\n",
              "  .colab-df-quickchart {\n",
              "    background-color: var(--bg-color);\n",
              "    border: none;\n",
              "    border-radius: 50%;\n",
              "    cursor: pointer;\n",
              "    display: none;\n",
              "    fill: var(--fill-color);\n",
              "    height: 32px;\n",
              "    padding: 0;\n",
              "    width: 32px;\n",
              "  }\n",
              "\n",
              "  .colab-df-quickchart:hover {\n",
              "    background-color: var(--hover-bg-color);\n",
              "    box-shadow: 0 1px 2px rgba(60, 64, 67, 0.3), 0 1px 3px 1px rgba(60, 64, 67, 0.15);\n",
              "    fill: var(--button-hover-fill-color);\n",
              "  }\n",
              "\n",
              "  .colab-df-quickchart-complete:disabled,\n",
              "  .colab-df-quickchart-complete:disabled:hover {\n",
              "    background-color: var(--disabled-bg-color);\n",
              "    fill: var(--disabled-fill-color);\n",
              "    box-shadow: none;\n",
              "  }\n",
              "\n",
              "  .colab-df-spinner {\n",
              "    border: 2px solid var(--fill-color);\n",
              "    border-color: transparent;\n",
              "    border-bottom-color: var(--fill-color);\n",
              "    animation:\n",
              "      spin 1s steps(1) infinite;\n",
              "  }\n",
              "\n",
              "  @keyframes spin {\n",
              "    0% {\n",
              "      border-color: transparent;\n",
              "      border-bottom-color: var(--fill-color);\n",
              "      border-left-color: var(--fill-color);\n",
              "    }\n",
              "    20% {\n",
              "      border-color: transparent;\n",
              "      border-left-color: var(--fill-color);\n",
              "      border-top-color: var(--fill-color);\n",
              "    }\n",
              "    30% {\n",
              "      border-color: transparent;\n",
              "      border-left-color: var(--fill-color);\n",
              "      border-top-color: var(--fill-color);\n",
              "      border-right-color: var(--fill-color);\n",
              "    }\n",
              "    40% {\n",
              "      border-color: transparent;\n",
              "      border-right-color: var(--fill-color);\n",
              "      border-top-color: var(--fill-color);\n",
              "    }\n",
              "    60% {\n",
              "      border-color: transparent;\n",
              "      border-right-color: var(--fill-color);\n",
              "    }\n",
              "    80% {\n",
              "      border-color: transparent;\n",
              "      border-right-color: var(--fill-color);\n",
              "      border-bottom-color: var(--fill-color);\n",
              "    }\n",
              "    90% {\n",
              "      border-color: transparent;\n",
              "      border-bottom-color: var(--fill-color);\n",
              "    }\n",
              "  }\n",
              "</style>\n",
              "\n",
              "  <script>\n",
              "    async function quickchart(key) {\n",
              "      const quickchartButtonEl =\n",
              "        document.querySelector('#' + key + ' button');\n",
              "      quickchartButtonEl.disabled = true;  // To prevent multiple clicks.\n",
              "      quickchartButtonEl.classList.add('colab-df-spinner');\n",
              "      try {\n",
              "        const charts = await google.colab.kernel.invokeFunction(\n",
              "            'suggestCharts', [key], {});\n",
              "      } catch (error) {\n",
              "        console.error('Error during call to suggestCharts:', error);\n",
              "      }\n",
              "      quickchartButtonEl.classList.remove('colab-df-spinner');\n",
              "      quickchartButtonEl.classList.add('colab-df-quickchart-complete');\n",
              "    }\n",
              "    (() => {\n",
              "      let quickchartButtonEl =\n",
              "        document.querySelector('#df-fc718442-77c5-48cc-bc10-c895f4af117f button');\n",
              "      quickchartButtonEl.style.display =\n",
              "        google.colab.kernel.accessAllowed ? 'block' : 'none';\n",
              "    })();\n",
              "  </script>\n",
              "</div>\n",
              "\n",
              "    </div>\n",
              "  </div>\n"
            ],
            "application/vnd.google.colaboratory.intrinsic+json": {
              "type": "dataframe",
              "variable_name": "df_clean",
              "summary": "{\n  \"name\": \"df_clean\",\n  \"rows\": 2225,\n  \"fields\": [\n    {\n      \"column\": \"category\",\n      \"properties\": {\n        \"dtype\": \"number\",\n        \"std\": 1,\n        \"min\": 0,\n        \"max\": 4,\n        \"num_unique_values\": 5,\n        \"samples\": [\n          1,\n          4,\n          2\n        ],\n        \"semantic_type\": \"\",\n        \"description\": \"\"\n      }\n    },\n    {\n      \"column\": \"title\",\n      \"properties\": {\n        \"dtype\": \"string\",\n        \"num_unique_values\": 2096,\n        \"samples\": [\n          \"Soaring oil 'hits world economy'\",\n          \"Bollywood DVD fraudster is jailed\",\n          \"Bening makes awards breakthrough\"\n        ],\n        \"semantic_type\": \"\",\n        \"description\": \"\"\n      }\n    },\n    {\n      \"column\": \"content\",\n      \"properties\": {\n        \"dtype\": \"string\",\n        \"num_unique_values\": 2092,\n        \"samples\": [\n          \" Kenya's athletics body has suspended two-time London Marathon runner-up Susan Chepkemei from all competition until the end of the year.  Athletics Kenya (AK) issued the ban after Chepkemei failed to turn up for a cross country training camp in Embu. \\\"We have banned her from all local and international competitions,\\\" said AK chief Isaiah Kiplagat. \\\"We shall communicate this decision to the IAAF and all meet directors all over the world.\\\" The 29-year-old finished second to Paula Radcliffe in the 2002 and 2003 London races, and was also edged out in an epic New York Marathon contest last year.  But the ban will prevent the two-time world half-marathon silver medallist from challenging Radcliffe at this year's London event in April. Global Sports Communications, Chepkemei's management company, said she had wanted to run in the World Cross Country Championships in March. But AK maintained it was making an example of Chepkemei as a warning to other Kenyan athletes. \\\"We are taking this action in order to salvage our pride,\\\" said Kiplagat. \\\"We have been accused of having no teeth to bite with and that agents are ruling over us.\\\" KA has also threatened three-time women's short-course champion Edith Masai with a similar ban if reports that she feigned injury to avoid running at the cross country world championships are true. Masai missed the national trials in early February, but was included in the provisional team on the proviso that she ran in a regional competition. She failed to run in the event, citing a leg injury. \",\n          \" The soaring cost of oil has hit global economic growth, although world's major economies should weather the storm of price rises, according to the OECD.  In its latest bi-annual report, the OECD cut its growth predictions for the world's main industrialised regions. US growth would reach 4.4% in 2004, but fall to 3.3% next year from a previous estimate of 3.7%, the OECD said. However, the Paris-based economics think tank said it believed the global economy could still regain momentum.  Forecasts for Japanese growth were also scaled back to 4.0% from 4.4% this year and 2.1% from 2.8% in 2005. But the outlook was worst for the 12-member eurozone bloc, with already sluggish growth forecasts slipping to 1.8% from 2.0% this year and 1.9% from 2.4% in 2005, the OECD said. Overall, the report forecast total growth of 3.6% in 2004 for the 30 member countries of the OECD, slipping to 2.9% next year before recovering to 3.1% in 2006. \\\"There are nonetheless good reasons to believe that despite recent oil price turbulence the world economy will regain momentum in a not-too-distant future,\\\" said Jean-Philippe Cotis, the OECD's chief economist. The price of crude is about 50% higher than it was at the start of 2004, but down on the record high of $55.67 set in late October.  A dip in oil prices and improving jobs prospects would improve consumer confidence and spending, the OECD said. \\\"The oil shock is not enormous by historical standards - we have seen worse in the seventies. If the oil price does not rise any further, then we think the shock can be absorbed within the next few quarters,\\\" Vincent Koen, a senior economist with the OECD, told the BBC's World Business Report. \\\"The recovery that was underway, and has been interrupted a bit by the oil shock this year, would then regain momentum in the course of 2005.\\\" China's booming economy and a \\\"spectacular comeback\\\" in Japan - albeit one that has faltered in recent months - would help world economic recovery, the OECD said. \\\"Supported by strong balance sheets and high profits, the recovery of business investment should continue in North America and start in earnest in Europe,\\\" it added. However, the report warned: \\\"It remains to be seen whether continental Europe will play a strong supportive role through a marked upswing of final domestic demand.\\\" The OECD highlighted current depressed household expenditure in Germany and the eurozone's over-reliance on export-led growth. \",\n          \" Consumer electronics giants Hitachi and Matshushita Electric are joining forces to share and develop technology for flat screen televisions.  The tie-up comes as the world's top producers are having to contend with falling prices and intense competition. The two Japanese companies will collaborate in research & development, production, marketing and licensing. They said the agreement would enable the two companies to expand the plasma display TV market globally.  Plasma display panels are used for large, thin TVs which are replacing old-style televisions. The display market for high-definition televisions is split between models using plasma display panels and others - manufactured by the likes of Sony and Samsung - using liquid-crystal displays (LCDs). The deal will enable Hitachi and Matsushita, which makes Panasonic brand products, to develop new technology and improve their competitiveness. Hitachi recently announced a deal to buy plasma display technology from rival Fujitsu in an effort to strengthen its presence in the market.  Separately, Fujitsu announced on Monday that it is quitting the LCD panel market by transferring its operations in the area to Japanese manufacturer Sharp. Sharp will inherit staff, manufacturing facilities and intellectual property from Fujitsu. The plasma panel market has seen rapid consolidation in recent months as the price of consumer electronic goods and components has fallen. Samsung Electronics and Sony are among other companies working together to reduce costs and speed up new product development. \"\n        ],\n        \"semantic_type\": \"\",\n        \"description\": \"\"\n      }\n    },\n    {\n      \"column\": \"text\",\n      \"properties\": {\n        \"dtype\": \"string\",\n        \"num_unique_values\": 2119,\n        \"samples\": [\n          \"cheaper chip mobiles mobile phone chip combines modem computer processor one bit silicon instead two could make phones cheaper powerful speciallydesigned chip developed texas instruments could drive cost making mobiles capable gaming frameasecond video currently rich multimedia features tend expensive handsets technology omapvox tested firms europe asia could appear end year texas makes computer chips half worlds mobile phones said keen make multimedia functions like video gaming affordable going drive meatandpotatoes phones largest market share said doug rasor marketing vice president texas chip also uses much less power conventional chips said texas means less strain mobile battery life million people mobile uk mobile operators keen encourage people move onto sophisticated handsets texas keen cash third generation g mobile technology offers highspeed networks video streaming multimedia functions faces stiff competition likes intel also looking provide better chips highend mobiles competition get people using g mobiles grow next year almost uks operators launched third generation networks recent survey sony ericsson predicted number g handsets sold would double account phones sold many consumers still convinced though recent survey said mobile owners thinking upgrading g phones many said confused different ways pay phones vast array features onboard continued demand better chips industry continues develop new standards future networks earlier january ntt docomo vodafone joined forces develop next generation highspeed networks known super g intended times faster g services first stage development completed date set commercial launch newlydesigned omapvox chip set announced ahead start major mobile industry conference gsm takes place cannes france week\",\n          \"enron bosses payout eighteen former enron directors agreed settlement deal shareholder lawsuit collapse energy firm leading plaintiff university california announced news adding former directors pay pockets settlement put courts approval next week enron went bankrupt emerged hidden hundreds millions dollars debt collapse firm seventh biggest public us company revenue demise sent shockwaves financial markets dented investor confidence corporate america settlement significant holding outside directors least partially personally responsible william lerach lawyer leading class action suit enron said hopefully help send message corporate boardrooms importance directors performing legal duties added terms settlement covered insurance none former directors admit wrongdoing deal fourth major settlement negotiated lawyers filed class action behalf enrons shareholders almost three years ago far including latest deal retrieved investors however latest deal include former enron chief executives ken lay jeff skilling men facing criminal charges alleged misconduct run firms collapse neither cover andrew fastow pleaded guilty taking part illegal conspiracy chief financial officer group enrons shareholders still seeking damages long list big name defendants including financial institutions jp morgan chase citigroup merrill lynch credit suisse first boston university california said trial case scheduled begin october joined lawsuit december alleging massive insider trading fraud claiming lost investments company\",\n          \"deal ban homophobic reggae reggae industry refuse release stage concerts featuring homophobic songs global deal struck gay rights groups damaging campaign stars beenie man sizzla waged lyrics allegedly call gay people killed assaulted campaign led gigs scrapped uk police investigation dropped truce brett lock gay group outrage said wiping slate clean protests led stop murder music coalition umbrella group including outrage black gay mens advisory group jamaican movement jflag coalition reached verbal agreement major dancehall reggae record labels concert promoters covering eight scenes biggest stars artists involved negotiations directly signed instead record companies pledged release rerelease offensive songs many date back number years believed promoters make stars agree perform tunes stage reggae industry work artists still maintaining freedom speech artistic freedom according media pr strategist glen yearwood representing reggae industry industry would halt attempt artist perform release song inciting violence group gender said well advise way forward civilised society stop murder music campaign saw protesters picket gigs resulted sizzlas uk tour cancelled november forced mobo award organisers drop artists nominations saw beenie man dropped mtv show august police also investigating whether lyrics incite assault murder gay people campaign blow reggae industry mr yearwood admitted cant major stars touring dont sell many albums said artists beenie man sizzla elephant man buju banton bounty killer tok capleton vybz kartel apologise past songs comments outrages mr lock said main players dancehall reggae industry attempt regulate industry ensure arent violently homophobic gaybashing lyrics future gesture good faith stop murder music coalition agreed suspend aggressive campaigning murder music shall picketing concerts calling prosecutions give industry space regulate reform record companies vp greensleeves distributor jet star concert promoters including jammins apollo entertainment board\"\n        ],\n        \"semantic_type\": \"\",\n        \"description\": \"\"\n      }\n    }\n  ]\n}"
            }
          },
          "metadata": {},
          "execution_count": 33
        }
      ]
    },
    {
      "cell_type": "code",
      "source": [
        "df_clean['text'][0]"
      ],
      "metadata": {
        "colab": {
          "base_uri": "https://localhost:8080/",
          "height": 174
        },
        "id": "MOEnAhmz22lX",
        "outputId": "6fa6c1c2-ade4-4d57-ef71-7e967f373e6f"
      },
      "execution_count": null,
      "outputs": [
        {
          "output_type": "execute_result",
          "data": {
            "text/plain": [
              "'ad sales boost time warner profit quarterly profits us media giant timewarner jumped bn three months december yearearlier firm one biggest investors google benefited sales highspeed internet connections higher advert sales timewarner said fourth quarter sales rose bn bn profits buoyed oneoff gains offset profit dip warner bros less users aol time warner said friday owns searchengine google internet business aol mixed fortunes lost subscribers fourth quarter profits lower preceding three quarters however company said aols underlying profit exceptional items rose back stronger internet advertising revenues hopes increase subscribers offering online service free timewarner internet customers try sign aols existing customers highspeed broadband timewarner also restate results following probe us securities exchange commission sec close concluding time warners fourth quarter profits slightly better analysts expectations film division saw profits slump helped boxoffice flops alexander catwoman sharp contrast yearearlier third final film lord rings trilogy boosted results fullyear timewarner posted profit bn performance revenues grew bn financial performance strong meeting exceeding fullyear objectives greatly enhancing flexibility chairman chief executive richard parsons said timewarner projecting operating earnings growth around also expects higher revenue wider profit margins timewarner restate accounts part efforts resolve inquiry aol us market regulators already offered pay settle charges deal review sec company said unable estimate amount needed set aside legal reserves previously set intends adjust way accounts deal german music publisher bertelsmanns purchase stake aol europe reported advertising revenue book sale stake aol europe loss value stake'"
            ],
            "application/vnd.google.colaboratory.intrinsic+json": {
              "type": "string"
            }
          },
          "metadata": {},
          "execution_count": 36
        }
      ]
    },
    {
      "cell_type": "code",
      "source": [
        "df_clean['category'].value_counts()"
      ],
      "metadata": {
        "colab": {
          "base_uri": "https://localhost:8080/",
          "height": 272
        },
        "id": "Bbk9w2KDuE0g",
        "outputId": "56adb03f-4e84-4fb3-854a-bb7a8779e6cc"
      },
      "execution_count": null,
      "outputs": [
        {
          "output_type": "execute_result",
          "data": {
            "text/plain": [
              "category\n",
              "3    511\n",
              "0    510\n",
              "2    417\n",
              "4    401\n",
              "1    386\n",
              "Name: count, dtype: int64"
            ],
            "text/html": [
              "<div>\n",
              "<style scoped>\n",
              "    .dataframe tbody tr th:only-of-type {\n",
              "        vertical-align: middle;\n",
              "    }\n",
              "\n",
              "    .dataframe tbody tr th {\n",
              "        vertical-align: top;\n",
              "    }\n",
              "\n",
              "    .dataframe thead th {\n",
              "        text-align: right;\n",
              "    }\n",
              "</style>\n",
              "<table border=\"1\" class=\"dataframe\">\n",
              "  <thead>\n",
              "    <tr style=\"text-align: right;\">\n",
              "      <th></th>\n",
              "      <th>count</th>\n",
              "    </tr>\n",
              "    <tr>\n",
              "      <th>category</th>\n",
              "      <th></th>\n",
              "    </tr>\n",
              "  </thead>\n",
              "  <tbody>\n",
              "    <tr>\n",
              "      <th>3</th>\n",
              "      <td>511</td>\n",
              "    </tr>\n",
              "    <tr>\n",
              "      <th>0</th>\n",
              "      <td>510</td>\n",
              "    </tr>\n",
              "    <tr>\n",
              "      <th>2</th>\n",
              "      <td>417</td>\n",
              "    </tr>\n",
              "    <tr>\n",
              "      <th>4</th>\n",
              "      <td>401</td>\n",
              "    </tr>\n",
              "    <tr>\n",
              "      <th>1</th>\n",
              "      <td>386</td>\n",
              "    </tr>\n",
              "  </tbody>\n",
              "</table>\n",
              "</div><br><label><b>dtype:</b> int64</label>"
            ]
          },
          "metadata": {},
          "execution_count": 34
        }
      ]
    },
    {
      "cell_type": "markdown",
      "source": [
        "## Tokenize and pad sequence"
      ],
      "metadata": {
        "id": "rQrsctg52kTx"
      }
    },
    {
      "cell_type": "code",
      "source": [
        "max_words = 5000\n",
        "max_len = 200\n",
        "\n",
        "tokenizer = Tokenizer(num_words=max_words, oov_token='x')\n",
        "tokenizer.fit_on_texts(df_clean['text'])\n",
        "\n",
        "sequence = tokenizer.texts_to_sequences(df_clean['text'])\n",
        "X = pad_sequences(sequence, maxlen=max_len)\n",
        "y = df_clean['category']"
      ],
      "metadata": {
        "id": "0mRfCd5oBad6"
      },
      "execution_count": null,
      "outputs": []
    },
    {
      "cell_type": "code",
      "source": [
        "from sklearn.model_selection import train_test_split\n",
        "\n",
        "# split data train+validation and data test\n",
        "text_train, text_test, label_train, label_test = train_test_split(X, y, test_size = 0.2, stratify=y, random_state=42)\n",
        "\n",
        "print(f\"Train size: {len(text_train)}, Test size: {len(text_test)}\")"
      ],
      "metadata": {
        "id": "X6luKrDYAnTl",
        "colab": {
          "base_uri": "https://localhost:8080/"
        },
        "outputId": "229578dc-8438-4198-827e-2ef233387017"
      },
      "execution_count": null,
      "outputs": [
        {
          "output_type": "stream",
          "name": "stdout",
          "text": [
            "Train size: 1780, Test size: 445\n"
          ]
        }
      ]
    },
    {
      "cell_type": "markdown",
      "source": [
        "# Modelling"
      ],
      "metadata": {
        "id": "-kw3UPn76Qg4"
      }
    },
    {
      "cell_type": "code",
      "source": [
        "model = tf.keras.Sequential([\n",
        "    tf.keras.layers.Embedding(input_dim=max_words, output_dim=128, input_length=max_len),\n",
        "    tf.keras.layers.LSTM(128),\n",
        "    tf.keras.layers.Dense(64, activation='relu'),\n",
        "    tf.keras.layers.Dropout(0.2),\n",
        "    tf.keras.layers.Dense(5, activation='softmax'),\n",
        "])\n",
        "model.compile(optimizer='adam', loss='sparse_categorical_crossentropy', metrics=['accuracy'])\n",
        "model.summary()"
      ],
      "metadata": {
        "colab": {
          "base_uri": "https://localhost:8080/",
          "height": 324
        },
        "id": "1-z0G9pCDYkV",
        "outputId": "1d4350d2-de48-4dbf-e2d7-1f5542621022"
      },
      "execution_count": null,
      "outputs": [
        {
          "output_type": "stream",
          "name": "stderr",
          "text": [
            "/usr/local/lib/python3.10/dist-packages/keras/src/layers/core/embedding.py:90: UserWarning: Argument `input_length` is deprecated. Just remove it.\n",
            "  warnings.warn(\n"
          ]
        },
        {
          "output_type": "display_data",
          "data": {
            "text/plain": [
              "\u001b[1mModel: \"sequential_2\"\u001b[0m\n"
            ],
            "text/html": [
              "<pre style=\"white-space:pre;overflow-x:auto;line-height:normal;font-family:Menlo,'DejaVu Sans Mono',consolas,'Courier New',monospace\"><span style=\"font-weight: bold\">Model: \"sequential_2\"</span>\n",
              "</pre>\n"
            ]
          },
          "metadata": {}
        },
        {
          "output_type": "display_data",
          "data": {
            "text/plain": [
              "┏━━━━━━━━━━━━━━━━━━━━━━━━━━━━━━━━━━━━━━┳━━━━━━━━━━━━━━━━━━━━━━━━━━━━━┳━━━━━━━━━━━━━━━━━┓\n",
              "┃\u001b[1m \u001b[0m\u001b[1mLayer (type)                        \u001b[0m\u001b[1m \u001b[0m┃\u001b[1m \u001b[0m\u001b[1mOutput Shape               \u001b[0m\u001b[1m \u001b[0m┃\u001b[1m \u001b[0m\u001b[1m        Param #\u001b[0m\u001b[1m \u001b[0m┃\n",
              "┡━━━━━━━━━━━━━━━━━━━━━━━━━━━━━━━━━━━━━━╇━━━━━━━━━━━━━━━━━━━━━━━━━━━━━╇━━━━━━━━━━━━━━━━━┩\n",
              "│ embedding_2 (\u001b[38;5;33mEmbedding\u001b[0m)              │ ?                           │     \u001b[38;5;34m0\u001b[0m (unbuilt) │\n",
              "├──────────────────────────────────────┼─────────────────────────────┼─────────────────┤\n",
              "│ lstm_2 (\u001b[38;5;33mLSTM\u001b[0m)                        │ ?                           │     \u001b[38;5;34m0\u001b[0m (unbuilt) │\n",
              "├──────────────────────────────────────┼─────────────────────────────┼─────────────────┤\n",
              "│ dense_4 (\u001b[38;5;33mDense\u001b[0m)                      │ ?                           │     \u001b[38;5;34m0\u001b[0m (unbuilt) │\n",
              "├──────────────────────────────────────┼─────────────────────────────┼─────────────────┤\n",
              "│ dropout_2 (\u001b[38;5;33mDropout\u001b[0m)                  │ ?                           │     \u001b[38;5;34m0\u001b[0m (unbuilt) │\n",
              "├──────────────────────────────────────┼─────────────────────────────┼─────────────────┤\n",
              "│ dense_5 (\u001b[38;5;33mDense\u001b[0m)                      │ ?                           │     \u001b[38;5;34m0\u001b[0m (unbuilt) │\n",
              "└──────────────────────────────────────┴─────────────────────────────┴─────────────────┘\n"
            ],
            "text/html": [
              "<pre style=\"white-space:pre;overflow-x:auto;line-height:normal;font-family:Menlo,'DejaVu Sans Mono',consolas,'Courier New',monospace\">┏━━━━━━━━━━━━━━━━━━━━━━━━━━━━━━━━━━━━━━┳━━━━━━━━━━━━━━━━━━━━━━━━━━━━━┳━━━━━━━━━━━━━━━━━┓\n",
              "┃<span style=\"font-weight: bold\"> Layer (type)                         </span>┃<span style=\"font-weight: bold\"> Output Shape                </span>┃<span style=\"font-weight: bold\">         Param # </span>┃\n",
              "┡━━━━━━━━━━━━━━━━━━━━━━━━━━━━━━━━━━━━━━╇━━━━━━━━━━━━━━━━━━━━━━━━━━━━━╇━━━━━━━━━━━━━━━━━┩\n",
              "│ embedding_2 (<span style=\"color: #0087ff; text-decoration-color: #0087ff\">Embedding</span>)              │ ?                           │     <span style=\"color: #00af00; text-decoration-color: #00af00\">0</span> (unbuilt) │\n",
              "├──────────────────────────────────────┼─────────────────────────────┼─────────────────┤\n",
              "│ lstm_2 (<span style=\"color: #0087ff; text-decoration-color: #0087ff\">LSTM</span>)                        │ ?                           │     <span style=\"color: #00af00; text-decoration-color: #00af00\">0</span> (unbuilt) │\n",
              "├──────────────────────────────────────┼─────────────────────────────┼─────────────────┤\n",
              "│ dense_4 (<span style=\"color: #0087ff; text-decoration-color: #0087ff\">Dense</span>)                      │ ?                           │     <span style=\"color: #00af00; text-decoration-color: #00af00\">0</span> (unbuilt) │\n",
              "├──────────────────────────────────────┼─────────────────────────────┼─────────────────┤\n",
              "│ dropout_2 (<span style=\"color: #0087ff; text-decoration-color: #0087ff\">Dropout</span>)                  │ ?                           │     <span style=\"color: #00af00; text-decoration-color: #00af00\">0</span> (unbuilt) │\n",
              "├──────────────────────────────────────┼─────────────────────────────┼─────────────────┤\n",
              "│ dense_5 (<span style=\"color: #0087ff; text-decoration-color: #0087ff\">Dense</span>)                      │ ?                           │     <span style=\"color: #00af00; text-decoration-color: #00af00\">0</span> (unbuilt) │\n",
              "└──────────────────────────────────────┴─────────────────────────────┴─────────────────┘\n",
              "</pre>\n"
            ]
          },
          "metadata": {}
        },
        {
          "output_type": "display_data",
          "data": {
            "text/plain": [
              "\u001b[1m Total params: \u001b[0m\u001b[38;5;34m0\u001b[0m (0.00 B)\n"
            ],
            "text/html": [
              "<pre style=\"white-space:pre;overflow-x:auto;line-height:normal;font-family:Menlo,'DejaVu Sans Mono',consolas,'Courier New',monospace\"><span style=\"font-weight: bold\"> Total params: </span><span style=\"color: #00af00; text-decoration-color: #00af00\">0</span> (0.00 B)\n",
              "</pre>\n"
            ]
          },
          "metadata": {}
        },
        {
          "output_type": "display_data",
          "data": {
            "text/plain": [
              "\u001b[1m Trainable params: \u001b[0m\u001b[38;5;34m0\u001b[0m (0.00 B)\n"
            ],
            "text/html": [
              "<pre style=\"white-space:pre;overflow-x:auto;line-height:normal;font-family:Menlo,'DejaVu Sans Mono',consolas,'Courier New',monospace\"><span style=\"font-weight: bold\"> Trainable params: </span><span style=\"color: #00af00; text-decoration-color: #00af00\">0</span> (0.00 B)\n",
              "</pre>\n"
            ]
          },
          "metadata": {}
        },
        {
          "output_type": "display_data",
          "data": {
            "text/plain": [
              "\u001b[1m Non-trainable params: \u001b[0m\u001b[38;5;34m0\u001b[0m (0.00 B)\n"
            ],
            "text/html": [
              "<pre style=\"white-space:pre;overflow-x:auto;line-height:normal;font-family:Menlo,'DejaVu Sans Mono',consolas,'Courier New',monospace\"><span style=\"font-weight: bold\"> Non-trainable params: </span><span style=\"color: #00af00; text-decoration-color: #00af00\">0</span> (0.00 B)\n",
              "</pre>\n"
            ]
          },
          "metadata": {}
        }
      ]
    },
    {
      "cell_type": "markdown",
      "source": [
        "## Training data and use Callback to hold epoch"
      ],
      "metadata": {
        "id": "sgHx5Sww87bQ"
      }
    },
    {
      "cell_type": "code",
      "source": [
        "class myCallback(tf.keras.callbacks.Callback):\n",
        "  def on_epoch_end(self, epoch, logs={}):\n",
        "    if(logs.get('accuracy')>0.9 and logs.get('val_accuracy')>0.9):\n",
        "      print(\"\\nAccuracy and val_accuracy >90%!\")\n",
        "      self.model.stop_training = True\n",
        "callbacks = myCallback()"
      ],
      "metadata": {
        "id": "Z-oG6pFQKbUm"
      },
      "execution_count": null,
      "outputs": []
    },
    {
      "cell_type": "code",
      "source": [
        "num_epochs = 20\n",
        "history = model.fit(text_train, label_train, epochs=num_epochs, validation_split=0.2, batch_size=32, callbacks = [callbacks], verbose=2)"
      ],
      "metadata": {
        "colab": {
          "base_uri": "https://localhost:8080/"
        },
        "id": "pe-fSVNjEoiZ",
        "outputId": "89e2ed04-c550-4886-84b6-a9ba25776d80"
      },
      "execution_count": null,
      "outputs": [
        {
          "output_type": "stream",
          "name": "stdout",
          "text": [
            "Epoch 1/20\n",
            "45/45 - 9s - 207ms/step - accuracy: 0.3420 - loss: 1.4972 - val_accuracy: 0.3287 - val_loss: 1.4975\n",
            "Epoch 2/20\n",
            "45/45 - 0s - 11ms/step - accuracy: 0.5836 - loss: 0.9226 - val_accuracy: 0.6348 - val_loss: 0.9077\n",
            "Epoch 3/20\n",
            "45/45 - 1s - 11ms/step - accuracy: 0.8237 - loss: 0.5077 - val_accuracy: 0.8090 - val_loss: 0.5460\n",
            "Epoch 4/20\n",
            "45/45 - 1s - 13ms/step - accuracy: 0.9333 - loss: 0.2250 - val_accuracy: 0.8455 - val_loss: 0.4486\n",
            "Epoch 5/20\n",
            "45/45 - 0s - 11ms/step - accuracy: 0.9347 - loss: 0.2314 - val_accuracy: 0.8090 - val_loss: 0.4939\n",
            "Epoch 6/20\n",
            "\n",
            "Accuracy and val_accuracy >90%!\n",
            "45/45 - 1s - 14ms/step - accuracy: 0.9916 - loss: 0.0538 - val_accuracy: 0.9213 - val_loss: 0.3149\n"
          ]
        }
      ]
    },
    {
      "cell_type": "markdown",
      "source": [
        "## Visualize Model Accuracy and Loss"
      ],
      "metadata": {
        "id": "H4vx0npL6DJ8"
      }
    },
    {
      "cell_type": "code",
      "source": [
        "import matplotlib.pyplot as plt\n",
        "\n",
        "plt.plot(history.history['accuracy'])\n",
        "plt.plot(history.history['val_accuracy'])\n",
        "plt.title('Model Accuracy')\n",
        "plt.xlabel('epochs')\n",
        "plt.ylabel('accuracy')\n",
        "plt.legend(['train','test'], loc='best')\n",
        "plt.show()\n",
        "\n",
        "plt.plot(history.history['loss'])\n",
        "plt.plot(history.history['val_loss'])\n",
        "plt.title('Model Loss')\n",
        "plt.xlabel('epochs')\n",
        "plt.ylabel('loss')\n",
        "plt.legend(['train','test'], loc='best')\n",
        "plt.show()"
      ],
      "metadata": {
        "id": "3UapbV8RFAn2",
        "colab": {
          "base_uri": "https://localhost:8080/",
          "height": 927
        },
        "outputId": "72494ad4-5481-4b4c-a3db-6461c44259fc"
      },
      "execution_count": null,
      "outputs": [
        {
          "output_type": "display_data",
          "data": {
            "text/plain": [
              "<Figure size 640x480 with 1 Axes>"
            ],
            "image/png": "[encoded data removed]"
          },
          "metadata": {}
        },
        {
          "output_type": "display_data",
          "data": {
            "text/plain": [
              "<Figure size 640x480 with 1 Axes>"
            ],
            "image/png": "[encoded data removed]"
          },
          "metadata": {}
        }
      ]
    },
    {
      "cell_type": "markdown",
      "source": [
        "# Predict to Data Test"
      ],
      "metadata": {
        "id": "IOpqfhML09Ll"
      }
    },
    {
      "cell_type": "code",
      "source": [
        "# predict data test sing neural network (np.argmax)\n",
        "label_pred  = np.argmax(model.predict(text_test), axis=1)\n",
        "\n",
        "# create classification report\n",
        "from sklearn.metrics import classification_report\n",
        "cf_report = classification_report(label_test, label_pred, target_names=le.classes_)\n",
        "print(f\"Classification Report: \\n{cf_report}\")"
      ],
      "metadata": {
        "colab": {
          "base_uri": "https://localhost:8080/"
        },
        "id": "XPwx4WkH08EL",
        "outputId": "a66b5d50-d23a-4d4f-a013-f881d1fa2338"
      },
      "execution_count": null,
      "outputs": [
        {
          "output_type": "stream",
          "name": "stdout",
          "text": [
            "\u001b[1m14/14\u001b[0m \u001b[32m━━━━━━━━━━━━━━━━━━━━\u001b[0m\u001b[37m\u001b[0m \u001b[1m0s\u001b[0m 6ms/step\n",
            "Classification Report: \n",
            "               precision    recall  f1-score   support\n",
            "\n",
            "     business       0.91      0.90      0.91       102\n",
            "entertainment       0.88      0.94      0.91        77\n",
            "     politics       0.97      0.87      0.92        84\n",
            "        sport       0.99      0.93      0.96       102\n",
            "         tech       0.85      0.96      0.90        80\n",
            "\n",
            "     accuracy                           0.92       445\n",
            "    macro avg       0.92      0.92      0.92       445\n",
            " weighted avg       0.92      0.92      0.92       445\n",
            "\n"
          ]
        }
      ]
    }
  ]
}